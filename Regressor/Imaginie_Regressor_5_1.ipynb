{
  "nbformat": 4,
  "nbformat_minor": 0,
  "metadata": {
    "colab": {
      "name": "Imaginie Regressor 5.1.ipynb",
      "provenance": []
    },
    "kernelspec": {
      "name": "python3",
      "display_name": "Python 3"
    },
    "language_info": {
      "name": "python"
    }
  },
  "cells": [
    {
      "cell_type": "markdown",
      "source": [
        "#Imports"
      ],
      "metadata": {
        "id": "x0c18QJ0Ddud"
      }
    },
    {
      "cell_type": "code",
      "execution_count": null,
      "metadata": {
        "id": "xW1nELy_92Ub"
      },
      "outputs": [],
      "source": [
        "import pandas as pd\n",
        "import numpy as np"
      ]
    },
    {
      "cell_type": "code",
      "source": [
        "from google.colab import drive\n",
        "drive.mount('/content/drive')"
      ],
      "metadata": {
        "colab": {
          "base_uri": "https://localhost:8080/"
        },
        "id": "qmkZ-vZn-HlJ",
        "outputId": "d3657e6f-bf1b-480e-a6ee-72bb3bb2e6fe"
      },
      "execution_count": null,
      "outputs": [
        {
          "output_type": "stream",
          "name": "stdout",
          "text": [
            "Mounted at /content/drive\n"
          ]
        }
      ]
    },
    {
      "cell_type": "markdown",
      "source": [
        "#Com oficial_feedback "
      ],
      "metadata": {
        "id": "hfWi6buh-TwZ"
      }
    },
    {
      "cell_type": "code",
      "source": [
        "df = pd.read_csv('/content/drive/MyDrive/dataset_finalv3.csv').dropna(subset=['feedback_rating','correction_time'])\n",
        "df = df.query('feedback_rating > 0')\n",
        "df.reset_index(inplace=True)\n",
        "df.drop(columns='index',inplace=True)"
      ],
      "metadata": {
        "id": "uhky84Tc-AvO"
      },
      "execution_count": null,
      "outputs": []
    },
    {
      "cell_type": "code",
      "source": [
        "df.head()"
      ],
      "metadata": {
        "colab": {
          "base_uri": "https://localhost:8080/",
          "height": 473
        },
        "outputId": "3e259a2b-987f-4e91-b2cc-c35a7834197f",
        "id": "NhRWyCflKDv9"
      },
      "execution_count": null,
      "outputs": [
        {
          "output_type": "execute_result",
          "data": {
            "text/plain": [
              "  tipo_cliente formato_redacao                start  tamanho_comentario_geral  \\\n",
              "0   Individual          Imagem  2015-04-10 00:51:22                         0   \n",
              "1   Individual          Imagem  2015-04-21 12:40:07                       287   \n",
              "2   Individual          Imagem  2015-04-21 14:28:42                       232   \n",
              "3   Individual          Imagem  2015-04-23 18:26:09                         0   \n",
              "4   Individual          Imagem  2015-05-14 14:35:51                       259   \n",
              "\n",
              "   correction_time  feedback_rating  final_score  proporcao_positiva  \\\n",
              "0           2039.0              4.0        680.0                 0.0   \n",
              "1           1522.0              1.0        320.0                 0.0   \n",
              "2           1207.0              1.0        360.0                 0.0   \n",
              "3           2322.0              1.0        480.0                 0.0   \n",
              "4            945.0              4.0        640.0                 0.0   \n",
              "\n",
              "   qtd_comentarios_especificos  proporcao_negativa  ...  media_temporal_aluno  \\\n",
              "0                           15                 1.0  ...                   NaN   \n",
              "1                           23                 1.0  ...                   NaN   \n",
              "2                           21                 1.0  ...                   NaN   \n",
              "3                           22                 1.0  ...                   NaN   \n",
              "4                           26                 1.0  ...                   NaN   \n",
              "\n",
              "   media_temporal_corretor  std_temporal_aluno  std_temporal_corretor  \\\n",
              "0                      NaN                 NaN                    NaN   \n",
              "1                     4.00                 NaN               0.000000   \n",
              "2                     2.50                 NaN               1.500000   \n",
              "3                     1.75                 NaN               1.414214   \n",
              "4                      NaN                 NaN                    NaN   \n",
              "\n",
              "   mediana_temporal_aluno  mediana_temporal_corretor  \\\n",
              "0                     NaN                        NaN   \n",
              "1                     NaN                        4.0   \n",
              "2                     NaN                        2.5   \n",
              "3                     NaN                        1.0   \n",
              "4                     NaN                        NaN   \n",
              "\n",
              "   score_medio_temporal_aluno  score_medio_temporal_corretor  \\\n",
              "0                         NaN                       0.000000   \n",
              "1                         0.0                      21.250000   \n",
              "2                         NaN                      21.328125   \n",
              "3                         NaN                       5.958252   \n",
              "4                         NaN                      35.000000   \n",
              "\n",
              "   score_std_temporal_aluno  diff_score_media  \n",
              "0                       NaN               NaN  \n",
              "1                       0.0             316.0  \n",
              "2                       NaN             357.5  \n",
              "3                       NaN             479.0  \n",
              "4                       NaN               NaN  \n",
              "\n",
              "[5 rows x 33 columns]"
            ],
            "text/html": [
              "\n",
              "  <div id=\"df-4c4d179b-d616-4479-8e6f-85f6f28188ed\">\n",
              "    <div class=\"colab-df-container\">\n",
              "      <div>\n",
              "<style scoped>\n",
              "    .dataframe tbody tr th:only-of-type {\n",
              "        vertical-align: middle;\n",
              "    }\n",
              "\n",
              "    .dataframe tbody tr th {\n",
              "        vertical-align: top;\n",
              "    }\n",
              "\n",
              "    .dataframe thead th {\n",
              "        text-align: right;\n",
              "    }\n",
              "</style>\n",
              "<table border=\"1\" class=\"dataframe\">\n",
              "  <thead>\n",
              "    <tr style=\"text-align: right;\">\n",
              "      <th></th>\n",
              "      <th>tipo_cliente</th>\n",
              "      <th>formato_redacao</th>\n",
              "      <th>start</th>\n",
              "      <th>tamanho_comentario_geral</th>\n",
              "      <th>correction_time</th>\n",
              "      <th>feedback_rating</th>\n",
              "      <th>final_score</th>\n",
              "      <th>proporcao_positiva</th>\n",
              "      <th>qtd_comentarios_especificos</th>\n",
              "      <th>proporcao_negativa</th>\n",
              "      <th>...</th>\n",
              "      <th>media_temporal_aluno</th>\n",
              "      <th>media_temporal_corretor</th>\n",
              "      <th>std_temporal_aluno</th>\n",
              "      <th>std_temporal_corretor</th>\n",
              "      <th>mediana_temporal_aluno</th>\n",
              "      <th>mediana_temporal_corretor</th>\n",
              "      <th>score_medio_temporal_aluno</th>\n",
              "      <th>score_medio_temporal_corretor</th>\n",
              "      <th>score_std_temporal_aluno</th>\n",
              "      <th>diff_score_media</th>\n",
              "    </tr>\n",
              "  </thead>\n",
              "  <tbody>\n",
              "    <tr>\n",
              "      <th>0</th>\n",
              "      <td>Individual</td>\n",
              "      <td>Imagem</td>\n",
              "      <td>2015-04-10 00:51:22</td>\n",
              "      <td>0</td>\n",
              "      <td>2039.0</td>\n",
              "      <td>4.0</td>\n",
              "      <td>680.0</td>\n",
              "      <td>0.0</td>\n",
              "      <td>15</td>\n",
              "      <td>1.0</td>\n",
              "      <td>...</td>\n",
              "      <td>NaN</td>\n",
              "      <td>NaN</td>\n",
              "      <td>NaN</td>\n",
              "      <td>NaN</td>\n",
              "      <td>NaN</td>\n",
              "      <td>NaN</td>\n",
              "      <td>NaN</td>\n",
              "      <td>0.000000</td>\n",
              "      <td>NaN</td>\n",
              "      <td>NaN</td>\n",
              "    </tr>\n",
              "    <tr>\n",
              "      <th>1</th>\n",
              "      <td>Individual</td>\n",
              "      <td>Imagem</td>\n",
              "      <td>2015-04-21 12:40:07</td>\n",
              "      <td>287</td>\n",
              "      <td>1522.0</td>\n",
              "      <td>1.0</td>\n",
              "      <td>320.0</td>\n",
              "      <td>0.0</td>\n",
              "      <td>23</td>\n",
              "      <td>1.0</td>\n",
              "      <td>...</td>\n",
              "      <td>NaN</td>\n",
              "      <td>4.00</td>\n",
              "      <td>NaN</td>\n",
              "      <td>0.000000</td>\n",
              "      <td>NaN</td>\n",
              "      <td>4.0</td>\n",
              "      <td>0.0</td>\n",
              "      <td>21.250000</td>\n",
              "      <td>0.0</td>\n",
              "      <td>316.0</td>\n",
              "    </tr>\n",
              "    <tr>\n",
              "      <th>2</th>\n",
              "      <td>Individual</td>\n",
              "      <td>Imagem</td>\n",
              "      <td>2015-04-21 14:28:42</td>\n",
              "      <td>232</td>\n",
              "      <td>1207.0</td>\n",
              "      <td>1.0</td>\n",
              "      <td>360.0</td>\n",
              "      <td>0.0</td>\n",
              "      <td>21</td>\n",
              "      <td>1.0</td>\n",
              "      <td>...</td>\n",
              "      <td>NaN</td>\n",
              "      <td>2.50</td>\n",
              "      <td>NaN</td>\n",
              "      <td>1.500000</td>\n",
              "      <td>NaN</td>\n",
              "      <td>2.5</td>\n",
              "      <td>NaN</td>\n",
              "      <td>21.328125</td>\n",
              "      <td>NaN</td>\n",
              "      <td>357.5</td>\n",
              "    </tr>\n",
              "    <tr>\n",
              "      <th>3</th>\n",
              "      <td>Individual</td>\n",
              "      <td>Imagem</td>\n",
              "      <td>2015-04-23 18:26:09</td>\n",
              "      <td>0</td>\n",
              "      <td>2322.0</td>\n",
              "      <td>1.0</td>\n",
              "      <td>480.0</td>\n",
              "      <td>0.0</td>\n",
              "      <td>22</td>\n",
              "      <td>1.0</td>\n",
              "      <td>...</td>\n",
              "      <td>NaN</td>\n",
              "      <td>1.75</td>\n",
              "      <td>NaN</td>\n",
              "      <td>1.414214</td>\n",
              "      <td>NaN</td>\n",
              "      <td>1.0</td>\n",
              "      <td>NaN</td>\n",
              "      <td>5.958252</td>\n",
              "      <td>NaN</td>\n",
              "      <td>479.0</td>\n",
              "    </tr>\n",
              "    <tr>\n",
              "      <th>4</th>\n",
              "      <td>Individual</td>\n",
              "      <td>Imagem</td>\n",
              "      <td>2015-05-14 14:35:51</td>\n",
              "      <td>259</td>\n",
              "      <td>945.0</td>\n",
              "      <td>4.0</td>\n",
              "      <td>640.0</td>\n",
              "      <td>0.0</td>\n",
              "      <td>26</td>\n",
              "      <td>1.0</td>\n",
              "      <td>...</td>\n",
              "      <td>NaN</td>\n",
              "      <td>NaN</td>\n",
              "      <td>NaN</td>\n",
              "      <td>NaN</td>\n",
              "      <td>NaN</td>\n",
              "      <td>NaN</td>\n",
              "      <td>NaN</td>\n",
              "      <td>35.000000</td>\n",
              "      <td>NaN</td>\n",
              "      <td>NaN</td>\n",
              "    </tr>\n",
              "  </tbody>\n",
              "</table>\n",
              "<p>5 rows × 33 columns</p>\n",
              "</div>\n",
              "      <button class=\"colab-df-convert\" onclick=\"convertToInteractive('df-4c4d179b-d616-4479-8e6f-85f6f28188ed')\"\n",
              "              title=\"Convert this dataframe to an interactive table.\"\n",
              "              style=\"display:none;\">\n",
              "        \n",
              "  <svg xmlns=\"http://www.w3.org/2000/svg\" height=\"24px\"viewBox=\"0 0 24 24\"\n",
              "       width=\"24px\">\n",
              "    <path d=\"M0 0h24v24H0V0z\" fill=\"none\"/>\n",
              "    <path d=\"M18.56 5.44l.94 2.06.94-2.06 2.06-.94-2.06-.94-.94-2.06-.94 2.06-2.06.94zm-11 1L8.5 8.5l.94-2.06 2.06-.94-2.06-.94L8.5 2.5l-.94 2.06-2.06.94zm10 10l.94 2.06.94-2.06 2.06-.94-2.06-.94-.94-2.06-.94 2.06-2.06.94z\"/><path d=\"M17.41 7.96l-1.37-1.37c-.4-.4-.92-.59-1.43-.59-.52 0-1.04.2-1.43.59L10.3 9.45l-7.72 7.72c-.78.78-.78 2.05 0 2.83L4 21.41c.39.39.9.59 1.41.59.51 0 1.02-.2 1.41-.59l7.78-7.78 2.81-2.81c.8-.78.8-2.07 0-2.86zM5.41 20L4 18.59l7.72-7.72 1.47 1.35L5.41 20z\"/>\n",
              "  </svg>\n",
              "      </button>\n",
              "      \n",
              "  <style>\n",
              "    .colab-df-container {\n",
              "      display:flex;\n",
              "      flex-wrap:wrap;\n",
              "      gap: 12px;\n",
              "    }\n",
              "\n",
              "    .colab-df-convert {\n",
              "      background-color: #E8F0FE;\n",
              "      border: none;\n",
              "      border-radius: 50%;\n",
              "      cursor: pointer;\n",
              "      display: none;\n",
              "      fill: #1967D2;\n",
              "      height: 32px;\n",
              "      padding: 0 0 0 0;\n",
              "      width: 32px;\n",
              "    }\n",
              "\n",
              "    .colab-df-convert:hover {\n",
              "      background-color: #E2EBFA;\n",
              "      box-shadow: 0px 1px 2px rgba(60, 64, 67, 0.3), 0px 1px 3px 1px rgba(60, 64, 67, 0.15);\n",
              "      fill: #174EA6;\n",
              "    }\n",
              "\n",
              "    [theme=dark] .colab-df-convert {\n",
              "      background-color: #3B4455;\n",
              "      fill: #D2E3FC;\n",
              "    }\n",
              "\n",
              "    [theme=dark] .colab-df-convert:hover {\n",
              "      background-color: #434B5C;\n",
              "      box-shadow: 0px 1px 3px 1px rgba(0, 0, 0, 0.15);\n",
              "      filter: drop-shadow(0px 1px 2px rgba(0, 0, 0, 0.3));\n",
              "      fill: #FFFFFF;\n",
              "    }\n",
              "  </style>\n",
              "\n",
              "      <script>\n",
              "        const buttonEl =\n",
              "          document.querySelector('#df-4c4d179b-d616-4479-8e6f-85f6f28188ed button.colab-df-convert');\n",
              "        buttonEl.style.display =\n",
              "          google.colab.kernel.accessAllowed ? 'block' : 'none';\n",
              "\n",
              "        async function convertToInteractive(key) {\n",
              "          const element = document.querySelector('#df-4c4d179b-d616-4479-8e6f-85f6f28188ed');\n",
              "          const dataTable =\n",
              "            await google.colab.kernel.invokeFunction('convertToInteractive',\n",
              "                                                     [key], {});\n",
              "          if (!dataTable) return;\n",
              "\n",
              "          const docLinkHtml = 'Like what you see? Visit the ' +\n",
              "            '<a target=\"_blank\" href=https://colab.research.google.com/notebooks/data_table.ipynb>data table notebook</a>'\n",
              "            + ' to learn more about interactive tables.';\n",
              "          element.innerHTML = '';\n",
              "          dataTable['output_type'] = 'display_data';\n",
              "          await google.colab.output.renderOutput(dataTable, element);\n",
              "          const docLink = document.createElement('div');\n",
              "          docLink.innerHTML = docLinkHtml;\n",
              "          element.appendChild(docLink);\n",
              "        }\n",
              "      </script>\n",
              "    </div>\n",
              "  </div>\n",
              "  "
            ]
          },
          "metadata": {},
          "execution_count": 26
        }
      ]
    },
    {
      "cell_type": "code",
      "source": [
        "df.isnull().sum()"
      ],
      "metadata": {
        "colab": {
          "base_uri": "https://localhost:8080/"
        },
        "outputId": "01ac902f-80f4-4974-9cca-39fb71b7c152",
        "id": "Ytmxri3HKDv-"
      },
      "execution_count": null,
      "outputs": [
        {
          "output_type": "execute_result",
          "data": {
            "text/plain": [
              "tipo_cliente                                 0\n",
              "formato_redacao                              0\n",
              "start                                        0\n",
              "tamanho_comentario_geral                     0\n",
              "correction_time                              0\n",
              "feedback_rating                              0\n",
              "final_score                                  0\n",
              "proporcao_positiva                           0\n",
              "qtd_comentarios_especificos                  0\n",
              "proporcao_negativa                           0\n",
              "qtd_comentarios_positivos                    0\n",
              "qtd_comentarios_negativos                    0\n",
              "tamanho_medio_comentarios_especificos        0\n",
              "tempo_vinculo_corretor                       0\n",
              "qtd_correcoes_anteriores                     0\n",
              "qtd_correcoes_dia                            0\n",
              "tempo_espera                                 0\n",
              "dia_semana                                   0\n",
              "mes_ano                                      0\n",
              "dia_mes                                      0\n",
              "tempo_vinculo_aluno                          0\n",
              "theme_id_essay                               0\n",
              "oficial_feedback_revis                    1216\n",
              "media_temporal_aluno                     45730\n",
              "media_temporal_corretor                   3029\n",
              "std_temporal_aluno                       45730\n",
              "std_temporal_corretor                     3029\n",
              "mediana_temporal_aluno                   45730\n",
              "mediana_temporal_corretor                 3029\n",
              "score_medio_temporal_aluno               20013\n",
              "score_medio_temporal_corretor              329\n",
              "score_std_temporal_aluno                 20013\n",
              "diff_score_media                          3029\n",
              "dtype: int64"
            ]
          },
          "metadata": {},
          "execution_count": 27
        }
      ]
    },
    {
      "cell_type": "code",
      "source": [
        "df.start = pd.to_datetime(df.start)\n",
        "df['year'] = [df.loc[i].start.year for i in range(len(df))]\n",
        "df2020 = df.query('year >= 2020')\n",
        "df2020.reset_index(inplace=True)\n",
        "df2020.drop(columns='index',inplace=True)"
      ],
      "metadata": {
        "colab": {
          "base_uri": "https://localhost:8080/"
        },
        "outputId": "027d3476-3c58-42ae-b232-564ff7568b04",
        "id": "g33zEU76KDv-"
      },
      "execution_count": null,
      "outputs": [
        {
          "output_type": "stream",
          "name": "stderr",
          "text": [
            "/usr/local/lib/python3.7/dist-packages/pandas/core/frame.py:4913: SettingWithCopyWarning: \n",
            "A value is trying to be set on a copy of a slice from a DataFrame\n",
            "\n",
            "See the caveats in the documentation: https://pandas.pydata.org/pandas-docs/stable/user_guide/indexing.html#returning-a-view-versus-a-copy\n",
            "  errors=errors,\n"
          ]
        }
      ]
    },
    {
      "cell_type": "code",
      "source": [
        "df2020.dropna(inplace=True)\n",
        "df2020.reset_index(inplace=True)\n",
        "df2020.drop(columns=['index'],inplace=True)"
      ],
      "metadata": {
        "colab": {
          "base_uri": "https://localhost:8080/"
        },
        "outputId": "bbe6541e-0db4-4a31-a2e1-4602912e1674",
        "id": "Mal5YUcIKDv-"
      },
      "execution_count": null,
      "outputs": [
        {
          "output_type": "stream",
          "name": "stderr",
          "text": [
            "/usr/local/lib/python3.7/dist-packages/pandas/util/_decorators.py:311: SettingWithCopyWarning: \n",
            "A value is trying to be set on a copy of a slice from a DataFrame\n",
            "\n",
            "See the caveats in the documentation: https://pandas.pydata.org/pandas-docs/stable/user_guide/indexing.html#returning-a-view-versus-a-copy\n",
            "  return func(*args, **kwargs)\n",
            "/usr/local/lib/python3.7/dist-packages/pandas/core/frame.py:4913: SettingWithCopyWarning: \n",
            "A value is trying to be set on a copy of a slice from a DataFrame\n",
            "\n",
            "See the caveats in the documentation: https://pandas.pydata.org/pandas-docs/stable/user_guide/indexing.html#returning-a-view-versus-a-copy\n",
            "  errors=errors,\n"
          ]
        }
      ]
    },
    {
      "cell_type": "code",
      "source": [
        "df2020['feedback_rating'].value_counts()"
      ],
      "metadata": {
        "colab": {
          "base_uri": "https://localhost:8080/"
        },
        "outputId": "8bf7c5b1-f20d-4236-90be-8771c40ece7a",
        "id": "CvGsHnPEKDv-"
      },
      "execution_count": null,
      "outputs": [
        {
          "output_type": "execute_result",
          "data": {
            "text/plain": [
              "5.0    16299\n",
              "1.0     9706\n",
              "3.0     9389\n",
              "2.0     6272\n",
              "4.0     3916\n",
              "Name: feedback_rating, dtype: int64"
            ]
          },
          "metadata": {},
          "execution_count": 30
        }
      ]
    },
    {
      "cell_type": "code",
      "source": [
        "X = df2020.drop(columns = ['feedback_rating','start'])\n",
        "y = df2020['feedback_rating']"
      ],
      "metadata": {
        "id": "tcZfjMG8KDv-"
      },
      "execution_count": null,
      "outputs": []
    },
    {
      "cell_type": "code",
      "source": [
        "from sklearn.model_selection import train_test_split\n",
        "\n",
        "X_train, X_test, y_train, y_test = train_test_split(X, y, test_size=0.33, random_state=123)"
      ],
      "metadata": {
        "id": "qcwZSlEuKDv-"
      },
      "execution_count": null,
      "outputs": []
    },
    {
      "cell_type": "code",
      "source": [
        "!pip install category_encoders"
      ],
      "metadata": {
        "colab": {
          "base_uri": "https://localhost:8080/"
        },
        "outputId": "38848344-d11b-4570-abb1-495bc5cb9278",
        "id": "crhpyQUAKDv-"
      },
      "execution_count": null,
      "outputs": [
        {
          "output_type": "stream",
          "name": "stdout",
          "text": [
            "Requirement already satisfied: category_encoders in /usr/local/lib/python3.7/dist-packages (2.4.0)\n",
            "Requirement already satisfied: patsy>=0.5.1 in /usr/local/lib/python3.7/dist-packages (from category_encoders) (0.5.2)\n",
            "Requirement already satisfied: scikit-learn>=0.20.0 in /usr/local/lib/python3.7/dist-packages (from category_encoders) (1.0.2)\n",
            "Requirement already satisfied: statsmodels>=0.9.0 in /usr/local/lib/python3.7/dist-packages (from category_encoders) (0.10.2)\n",
            "Requirement already satisfied: pandas>=0.21.1 in /usr/local/lib/python3.7/dist-packages (from category_encoders) (1.3.5)\n",
            "Requirement already satisfied: numpy>=1.14.0 in /usr/local/lib/python3.7/dist-packages (from category_encoders) (1.21.6)\n",
            "Requirement already satisfied: scipy>=1.0.0 in /usr/local/lib/python3.7/dist-packages (from category_encoders) (1.4.1)\n",
            "Requirement already satisfied: python-dateutil>=2.7.3 in /usr/local/lib/python3.7/dist-packages (from pandas>=0.21.1->category_encoders) (2.8.2)\n",
            "Requirement already satisfied: pytz>=2017.3 in /usr/local/lib/python3.7/dist-packages (from pandas>=0.21.1->category_encoders) (2022.1)\n",
            "Requirement already satisfied: six in /usr/local/lib/python3.7/dist-packages (from patsy>=0.5.1->category_encoders) (1.15.0)\n",
            "Requirement already satisfied: threadpoolctl>=2.0.0 in /usr/local/lib/python3.7/dist-packages (from scikit-learn>=0.20.0->category_encoders) (3.1.0)\n",
            "Requirement already satisfied: joblib>=0.11 in /usr/local/lib/python3.7/dist-packages (from scikit-learn>=0.20.0->category_encoders) (1.1.0)\n"
          ]
        }
      ]
    },
    {
      "cell_type": "code",
      "source": [
        "\n",
        "#aplicando o encoder nas colunas categóricas\n",
        "\n",
        "import category_encoders as ce \n",
        "# parâmetro cols identifica as colunas categóricas\n",
        "js_treino = ce.JamesSteinEncoder(cols=['tipo_cliente','formato_redacao', 'dia_semana',\n",
        "                                       'mes_ano','dia_mes','theme_id_essay'], model='beta')\n",
        "\n",
        "\n",
        "\n",
        "treino = js_treino.fit_transform(X_train, y_train)\n",
        "\n",
        "teste = js_treino.transform(X_test)\n",
        "\n",
        "\n",
        "treino = pd.concat([treino,y_train],axis=1)\n",
        "\n",
        "teste = pd.concat([teste,y_test],axis=1)"
      ],
      "metadata": {
        "id": "zLl76x59KDv-"
      },
      "execution_count": null,
      "outputs": []
    },
    {
      "cell_type": "code",
      "source": [
        "X_train2 = treino.drop(columns='feedback_rating')\n",
        "y_train2 = treino.feedback_rating\n",
        "\n",
        "X_test2 = teste.drop(columns='feedback_rating')\n",
        "y_test2 = teste.feedback_rating\n"
      ],
      "metadata": {
        "id": "AEwldmNLKDv-"
      },
      "execution_count": null,
      "outputs": []
    },
    {
      "cell_type": "code",
      "source": [
        "from imblearn.under_sampling import RandomUnderSampler\n",
        "rus = RandomUnderSampler(random_state=123)\n",
        "X_resampled, y_resampled = rus.fit_resample(X_train2, y_train2)"
      ],
      "metadata": {
        "id": "D6i9U_ZzKDv_"
      },
      "execution_count": null,
      "outputs": []
    },
    {
      "cell_type": "code",
      "source": [
        "from sklearn.ensemble import RandomForestRegressor\n",
        "from sklearn.ensemble import GradientBoostingRegressor\n",
        "from sklearn.ensemble import AdaBoostRegressor\n",
        "from sklearn.linear_model import LinearRegression\n",
        "from sklearn.metrics import mean_squared_error\n",
        "from sklearn.metrics import mean_absolute_error\n",
        "\n",
        "def treinar_modelos(lista_modelos,x_treino,y_treino,x_test,y_test):\n",
        "  mae = []\n",
        "  mse = []\n",
        "  dic_metricas = {'MAE':mae,'MSE':mse}\n",
        "  for i in range(len(lista_modelos)):\n",
        "    lista_modelos[i].fit(x_treino,y_treino)\n",
        "    y_pred = lista_modelos[i].predict(x_test)\n",
        "\n",
        "    mae.append((str(lista_modelos[i]),mean_absolute_error(y_test,y_pred)))\n",
        "    mse.append((str(lista_modelos[i]),mean_squared_error(y_test,y_pred)))\n",
        "\n",
        "  return dic_metricas"
      ],
      "metadata": {
        "id": "vXGu6vRuKDv_"
      },
      "execution_count": null,
      "outputs": []
    },
    {
      "cell_type": "code",
      "source": [
        "modelos = [RandomForestRegressor(),GradientBoostingRegressor(),AdaBoostRegressor(),LinearRegression()]\n",
        "resultados = treinar_modelos(modelos,X_resampled,y_resampled,X_test2,y_test2)"
      ],
      "metadata": {
        "id": "9KQ82KdwKDv_"
      },
      "execution_count": null,
      "outputs": []
    },
    {
      "cell_type": "code",
      "source": [
        "X_resampled.shape"
      ],
      "metadata": {
        "colab": {
          "base_uri": "https://localhost:8080/"
        },
        "outputId": "8c8ec069-9d2a-4e50-ad84-d487b491f908",
        "id": "LEsCr4_mKDv_"
      },
      "execution_count": null,
      "outputs": [
        {
          "output_type": "execute_result",
          "data": {
            "text/plain": [
              "(13220, 32)"
            ]
          },
          "metadata": {},
          "execution_count": 39
        }
      ]
    },
    {
      "cell_type": "code",
      "source": [
        "X_test2.shape"
      ],
      "metadata": {
        "colab": {
          "base_uri": "https://localhost:8080/"
        },
        "outputId": "5940cc68-f20b-464d-c5c3-5bed603a5c20",
        "id": "rUq7WYjiKDv_"
      },
      "execution_count": null,
      "outputs": [
        {
          "output_type": "execute_result",
          "data": {
            "text/plain": [
              "(15043, 32)"
            ]
          },
          "metadata": {},
          "execution_count": 40
        }
      ]
    },
    {
      "cell_type": "code",
      "source": [
        "resultados"
      ],
      "metadata": {
        "colab": {
          "base_uri": "https://localhost:8080/"
        },
        "outputId": "5cec81f5-9f2f-4c98-9a6b-86dc0eb2d72a",
        "id": "3LWOl7ObKDv_"
      },
      "execution_count": null,
      "outputs": [
        {
          "output_type": "execute_result",
          "data": {
            "text/plain": [
              "{'MAE': [('RandomForestRegressor()', 0.841848700392209),\n",
              "  ('GradientBoostingRegressor()', 0.8326094153953528),\n",
              "  ('AdaBoostRegressor()', 1.0063573020858714),\n",
              "  ('LinearRegression()', 0.883630382862697)],\n",
              " 'MSE': [('RandomForestRegressor()', 1.0707546300604933),\n",
              "  ('GradientBoostingRegressor()', 1.043238007134429),\n",
              "  ('AdaBoostRegressor()', 1.3363508766652283),\n",
              "  ('LinearRegression()', 1.1429890489833727)]}"
            ]
          },
          "metadata": {},
          "execution_count": 41
        }
      ]
    },
    {
      "cell_type": "code",
      "source": [
        "resultados['MAE']"
      ],
      "metadata": {
        "colab": {
          "base_uri": "https://localhost:8080/"
        },
        "outputId": "07d4d833-4968-4b11-c356-ba6fc7b09cf2",
        "id": "yo3zCkmHKDv_"
      },
      "execution_count": null,
      "outputs": [
        {
          "output_type": "execute_result",
          "data": {
            "text/plain": [
              "[('RandomForestRegressor()', 0.841848700392209),\n",
              " ('GradientBoostingRegressor()', 0.8326094153953528),\n",
              " ('AdaBoostRegressor()', 1.0063573020858714),\n",
              " ('LinearRegression()', 0.883630382862697)]"
            ]
          },
          "metadata": {},
          "execution_count": 42
        }
      ]
    },
    {
      "cell_type": "code",
      "source": [
        "resultados['MSE']"
      ],
      "metadata": {
        "colab": {
          "base_uri": "https://localhost:8080/"
        },
        "outputId": "e0319836-c217-4267-a968-987fedac361f",
        "id": "lD7AnY3RKDv_"
      },
      "execution_count": null,
      "outputs": [
        {
          "output_type": "execute_result",
          "data": {
            "text/plain": [
              "[('RandomForestRegressor()', 1.0707546300604933),\n",
              " ('GradientBoostingRegressor()', 1.043238007134429),\n",
              " ('AdaBoostRegressor()', 1.3363508766652283),\n",
              " ('LinearRegression()', 1.1429890489833727)]"
            ]
          },
          "metadata": {},
          "execution_count": 43
        }
      ]
    },
    {
      "cell_type": "markdown",
      "source": [
        "#Sem oficial_feedback"
      ],
      "metadata": {
        "id": "tC5yW27SGWSP"
      }
    },
    {
      "cell_type": "markdown",
      "source": [
        "## Abordagem padrão ( 0 e 1)"
      ],
      "metadata": {
        "id": "Y-W7NBlCncqE"
      }
    },
    {
      "cell_type": "code",
      "source": [
        "df = pd.read_csv('/content/drive/MyDrive/dataset_finalv3.csv').dropna(subset=['feedback_rating','correction_time'])\n",
        "df = df.query('feedback_rating > 0').drop(columns = ['oficial_feedback_revis'])\n",
        "df.reset_index(inplace=True)\n",
        "df.drop(columns='index',inplace=True)"
      ],
      "metadata": {
        "id": "EoexWHu4GZhO"
      },
      "execution_count": null,
      "outputs": []
    },
    {
      "cell_type": "code",
      "source": [
        "df.head()"
      ],
      "metadata": {
        "colab": {
          "base_uri": "https://localhost:8080/",
          "height": 473
        },
        "outputId": "51982e85-ba66-40e2-9b1f-055a57463477",
        "id": "3SluaXD5GZhO"
      },
      "execution_count": null,
      "outputs": [
        {
          "output_type": "execute_result",
          "data": {
            "text/plain": [
              "  tipo_cliente formato_redacao                start  tamanho_comentario_geral  \\\n",
              "0   Individual          Imagem  2015-04-10 00:51:22                         0   \n",
              "1   Individual          Imagem  2015-04-21 12:40:07                       287   \n",
              "2   Individual          Imagem  2015-04-21 14:28:42                       232   \n",
              "3   Individual          Imagem  2015-04-23 18:26:09                         0   \n",
              "4   Individual          Imagem  2015-05-14 14:35:51                       259   \n",
              "\n",
              "   correction_time  feedback_rating  proporcao_positiva  \\\n",
              "0           2039.0              4.0                 0.0   \n",
              "1           1522.0              1.0                 0.0   \n",
              "2           1207.0              1.0                 0.0   \n",
              "3           2322.0              1.0                 0.0   \n",
              "4            945.0              4.0                 0.0   \n",
              "\n",
              "   qtd_comentarios_especificos  proporcao_negativa  qtd_comentarios_positivos  \\\n",
              "0                           15                 1.0                        0.0   \n",
              "1                           23                 1.0                        0.0   \n",
              "2                           21                 1.0                        0.0   \n",
              "3                           22                 1.0                        0.0   \n",
              "4                           26                 1.0                        0.0   \n",
              "\n",
              "   ...  qtd_feedbacks_aluno  feedbacks_positivos_aluno  \\\n",
              "0  ...                    0                          0   \n",
              "1  ...                    0                          0   \n",
              "2  ...                    0                          0   \n",
              "3  ...                    0                          0   \n",
              "4  ...                    0                          0   \n",
              "\n",
              "   feedbacks_negativos_aluno  proporcao_feedback_positivo_aluno  \\\n",
              "0                          0                                NaN   \n",
              "1                          0                                0.0   \n",
              "2                          0                                NaN   \n",
              "3                          0                                NaN   \n",
              "4                          0                                NaN   \n",
              "\n",
              "   proporcao_feedback_negativo_aluno  qtd_feedbacks_corretor  \\\n",
              "0                                NaN                       0   \n",
              "1                                0.0                       1   \n",
              "2                                NaN                       2   \n",
              "3                                NaN                       3   \n",
              "4                                NaN                       0   \n",
              "\n",
              "   feedbacks_positivos_corretor  feedbacks_negativos_corretor  \\\n",
              "0                             0                             0   \n",
              "1                             1                             0   \n",
              "2                             1                             1   \n",
              "3                             1                             2   \n",
              "4                             0                             0   \n",
              "\n",
              "   proporcao_feedback_positivo_corretor  proporcao_feedback_negativo_corretor  \n",
              "0                              0.000000                              0.000000  \n",
              "1                              1.000000                              0.000000  \n",
              "2                              0.500000                              0.500000  \n",
              "3                              0.333333                              0.666667  \n",
              "4                              0.000000                              0.000000  \n",
              "\n",
              "[5 rows x 48 columns]"
            ],
            "text/html": [
              "\n",
              "  <div id=\"df-c86a6565-f566-46d4-a9b0-3693fcbed633\">\n",
              "    <div class=\"colab-df-container\">\n",
              "      <div>\n",
              "<style scoped>\n",
              "    .dataframe tbody tr th:only-of-type {\n",
              "        vertical-align: middle;\n",
              "    }\n",
              "\n",
              "    .dataframe tbody tr th {\n",
              "        vertical-align: top;\n",
              "    }\n",
              "\n",
              "    .dataframe thead th {\n",
              "        text-align: right;\n",
              "    }\n",
              "</style>\n",
              "<table border=\"1\" class=\"dataframe\">\n",
              "  <thead>\n",
              "    <tr style=\"text-align: right;\">\n",
              "      <th></th>\n",
              "      <th>tipo_cliente</th>\n",
              "      <th>formato_redacao</th>\n",
              "      <th>start</th>\n",
              "      <th>tamanho_comentario_geral</th>\n",
              "      <th>correction_time</th>\n",
              "      <th>feedback_rating</th>\n",
              "      <th>proporcao_positiva</th>\n",
              "      <th>qtd_comentarios_especificos</th>\n",
              "      <th>proporcao_negativa</th>\n",
              "      <th>qtd_comentarios_positivos</th>\n",
              "      <th>...</th>\n",
              "      <th>qtd_feedbacks_aluno</th>\n",
              "      <th>feedbacks_positivos_aluno</th>\n",
              "      <th>feedbacks_negativos_aluno</th>\n",
              "      <th>proporcao_feedback_positivo_aluno</th>\n",
              "      <th>proporcao_feedback_negativo_aluno</th>\n",
              "      <th>qtd_feedbacks_corretor</th>\n",
              "      <th>feedbacks_positivos_corretor</th>\n",
              "      <th>feedbacks_negativos_corretor</th>\n",
              "      <th>proporcao_feedback_positivo_corretor</th>\n",
              "      <th>proporcao_feedback_negativo_corretor</th>\n",
              "    </tr>\n",
              "  </thead>\n",
              "  <tbody>\n",
              "    <tr>\n",
              "      <th>0</th>\n",
              "      <td>Individual</td>\n",
              "      <td>Imagem</td>\n",
              "      <td>2015-04-10 00:51:22</td>\n",
              "      <td>0</td>\n",
              "      <td>2039.0</td>\n",
              "      <td>4.0</td>\n",
              "      <td>0.0</td>\n",
              "      <td>15</td>\n",
              "      <td>1.0</td>\n",
              "      <td>0.0</td>\n",
              "      <td>...</td>\n",
              "      <td>0</td>\n",
              "      <td>0</td>\n",
              "      <td>0</td>\n",
              "      <td>NaN</td>\n",
              "      <td>NaN</td>\n",
              "      <td>0</td>\n",
              "      <td>0</td>\n",
              "      <td>0</td>\n",
              "      <td>0.000000</td>\n",
              "      <td>0.000000</td>\n",
              "    </tr>\n",
              "    <tr>\n",
              "      <th>1</th>\n",
              "      <td>Individual</td>\n",
              "      <td>Imagem</td>\n",
              "      <td>2015-04-21 12:40:07</td>\n",
              "      <td>287</td>\n",
              "      <td>1522.0</td>\n",
              "      <td>1.0</td>\n",
              "      <td>0.0</td>\n",
              "      <td>23</td>\n",
              "      <td>1.0</td>\n",
              "      <td>0.0</td>\n",
              "      <td>...</td>\n",
              "      <td>0</td>\n",
              "      <td>0</td>\n",
              "      <td>0</td>\n",
              "      <td>0.0</td>\n",
              "      <td>0.0</td>\n",
              "      <td>1</td>\n",
              "      <td>1</td>\n",
              "      <td>0</td>\n",
              "      <td>1.000000</td>\n",
              "      <td>0.000000</td>\n",
              "    </tr>\n",
              "    <tr>\n",
              "      <th>2</th>\n",
              "      <td>Individual</td>\n",
              "      <td>Imagem</td>\n",
              "      <td>2015-04-21 14:28:42</td>\n",
              "      <td>232</td>\n",
              "      <td>1207.0</td>\n",
              "      <td>1.0</td>\n",
              "      <td>0.0</td>\n",
              "      <td>21</td>\n",
              "      <td>1.0</td>\n",
              "      <td>0.0</td>\n",
              "      <td>...</td>\n",
              "      <td>0</td>\n",
              "      <td>0</td>\n",
              "      <td>0</td>\n",
              "      <td>NaN</td>\n",
              "      <td>NaN</td>\n",
              "      <td>2</td>\n",
              "      <td>1</td>\n",
              "      <td>1</td>\n",
              "      <td>0.500000</td>\n",
              "      <td>0.500000</td>\n",
              "    </tr>\n",
              "    <tr>\n",
              "      <th>3</th>\n",
              "      <td>Individual</td>\n",
              "      <td>Imagem</td>\n",
              "      <td>2015-04-23 18:26:09</td>\n",
              "      <td>0</td>\n",
              "      <td>2322.0</td>\n",
              "      <td>1.0</td>\n",
              "      <td>0.0</td>\n",
              "      <td>22</td>\n",
              "      <td>1.0</td>\n",
              "      <td>0.0</td>\n",
              "      <td>...</td>\n",
              "      <td>0</td>\n",
              "      <td>0</td>\n",
              "      <td>0</td>\n",
              "      <td>NaN</td>\n",
              "      <td>NaN</td>\n",
              "      <td>3</td>\n",
              "      <td>1</td>\n",
              "      <td>2</td>\n",
              "      <td>0.333333</td>\n",
              "      <td>0.666667</td>\n",
              "    </tr>\n",
              "    <tr>\n",
              "      <th>4</th>\n",
              "      <td>Individual</td>\n",
              "      <td>Imagem</td>\n",
              "      <td>2015-05-14 14:35:51</td>\n",
              "      <td>259</td>\n",
              "      <td>945.0</td>\n",
              "      <td>4.0</td>\n",
              "      <td>0.0</td>\n",
              "      <td>26</td>\n",
              "      <td>1.0</td>\n",
              "      <td>0.0</td>\n",
              "      <td>...</td>\n",
              "      <td>0</td>\n",
              "      <td>0</td>\n",
              "      <td>0</td>\n",
              "      <td>NaN</td>\n",
              "      <td>NaN</td>\n",
              "      <td>0</td>\n",
              "      <td>0</td>\n",
              "      <td>0</td>\n",
              "      <td>0.000000</td>\n",
              "      <td>0.000000</td>\n",
              "    </tr>\n",
              "  </tbody>\n",
              "</table>\n",
              "<p>5 rows × 48 columns</p>\n",
              "</div>\n",
              "      <button class=\"colab-df-convert\" onclick=\"convertToInteractive('df-c86a6565-f566-46d4-a9b0-3693fcbed633')\"\n",
              "              title=\"Convert this dataframe to an interactive table.\"\n",
              "              style=\"display:none;\">\n",
              "        \n",
              "  <svg xmlns=\"http://www.w3.org/2000/svg\" height=\"24px\"viewBox=\"0 0 24 24\"\n",
              "       width=\"24px\">\n",
              "    <path d=\"M0 0h24v24H0V0z\" fill=\"none\"/>\n",
              "    <path d=\"M18.56 5.44l.94 2.06.94-2.06 2.06-.94-2.06-.94-.94-2.06-.94 2.06-2.06.94zm-11 1L8.5 8.5l.94-2.06 2.06-.94-2.06-.94L8.5 2.5l-.94 2.06-2.06.94zm10 10l.94 2.06.94-2.06 2.06-.94-2.06-.94-.94-2.06-.94 2.06-2.06.94z\"/><path d=\"M17.41 7.96l-1.37-1.37c-.4-.4-.92-.59-1.43-.59-.52 0-1.04.2-1.43.59L10.3 9.45l-7.72 7.72c-.78.78-.78 2.05 0 2.83L4 21.41c.39.39.9.59 1.41.59.51 0 1.02-.2 1.41-.59l7.78-7.78 2.81-2.81c.8-.78.8-2.07 0-2.86zM5.41 20L4 18.59l7.72-7.72 1.47 1.35L5.41 20z\"/>\n",
              "  </svg>\n",
              "      </button>\n",
              "      \n",
              "  <style>\n",
              "    .colab-df-container {\n",
              "      display:flex;\n",
              "      flex-wrap:wrap;\n",
              "      gap: 12px;\n",
              "    }\n",
              "\n",
              "    .colab-df-convert {\n",
              "      background-color: #E8F0FE;\n",
              "      border: none;\n",
              "      border-radius: 50%;\n",
              "      cursor: pointer;\n",
              "      display: none;\n",
              "      fill: #1967D2;\n",
              "      height: 32px;\n",
              "      padding: 0 0 0 0;\n",
              "      width: 32px;\n",
              "    }\n",
              "\n",
              "    .colab-df-convert:hover {\n",
              "      background-color: #E2EBFA;\n",
              "      box-shadow: 0px 1px 2px rgba(60, 64, 67, 0.3), 0px 1px 3px 1px rgba(60, 64, 67, 0.15);\n",
              "      fill: #174EA6;\n",
              "    }\n",
              "\n",
              "    [theme=dark] .colab-df-convert {\n",
              "      background-color: #3B4455;\n",
              "      fill: #D2E3FC;\n",
              "    }\n",
              "\n",
              "    [theme=dark] .colab-df-convert:hover {\n",
              "      background-color: #434B5C;\n",
              "      box-shadow: 0px 1px 3px 1px rgba(0, 0, 0, 0.15);\n",
              "      filter: drop-shadow(0px 1px 2px rgba(0, 0, 0, 0.3));\n",
              "      fill: #FFFFFF;\n",
              "    }\n",
              "  </style>\n",
              "\n",
              "      <script>\n",
              "        const buttonEl =\n",
              "          document.querySelector('#df-c86a6565-f566-46d4-a9b0-3693fcbed633 button.colab-df-convert');\n",
              "        buttonEl.style.display =\n",
              "          google.colab.kernel.accessAllowed ? 'block' : 'none';\n",
              "\n",
              "        async function convertToInteractive(key) {\n",
              "          const element = document.querySelector('#df-c86a6565-f566-46d4-a9b0-3693fcbed633');\n",
              "          const dataTable =\n",
              "            await google.colab.kernel.invokeFunction('convertToInteractive',\n",
              "                                                     [key], {});\n",
              "          if (!dataTable) return;\n",
              "\n",
              "          const docLinkHtml = 'Like what you see? Visit the ' +\n",
              "            '<a target=\"_blank\" href=https://colab.research.google.com/notebooks/data_table.ipynb>data table notebook</a>'\n",
              "            + ' to learn more about interactive tables.';\n",
              "          element.innerHTML = '';\n",
              "          dataTable['output_type'] = 'display_data';\n",
              "          await google.colab.output.renderOutput(dataTable, element);\n",
              "          const docLink = document.createElement('div');\n",
              "          docLink.innerHTML = docLinkHtml;\n",
              "          element.appendChild(docLink);\n",
              "        }\n",
              "      </script>\n",
              "    </div>\n",
              "  </div>\n",
              "  "
            ]
          },
          "metadata": {},
          "execution_count": 4
        }
      ]
    },
    {
      "cell_type": "code",
      "source": [
        "df.isnull().sum()"
      ],
      "metadata": {
        "colab": {
          "base_uri": "https://localhost:8080/"
        },
        "outputId": "bc2ab2b9-c1aa-40d2-bacd-4d4f24f7aac9",
        "id": "Xwl0VgjPGZhP"
      },
      "execution_count": null,
      "outputs": [
        {
          "output_type": "execute_result",
          "data": {
            "text/plain": [
              "tipo_cliente                                 0\n",
              "formato_redacao                              0\n",
              "start                                        0\n",
              "tamanho_comentario_geral                     0\n",
              "correction_time                              0\n",
              "feedback_rating                              0\n",
              "proporcao_positiva                           0\n",
              "qtd_comentarios_especificos                  0\n",
              "proporcao_negativa                           0\n",
              "qtd_comentarios_positivos                    0\n",
              "qtd_comentarios_negativos                    0\n",
              "tamanho_medio_comentarios_especificos        0\n",
              "tempo_vinculo_corretor                       0\n",
              "qtd_correcoes_anteriores                     0\n",
              "qtd_correcoes_dia                            0\n",
              "tempo_espera                                 0\n",
              "dia_semana                                   0\n",
              "mes_ano                                      0\n",
              "dia_mes                                      0\n",
              "tempo_vinculo_aluno                          0\n",
              "theme_id_essay                               0\n",
              "competencia1                              1755\n",
              "competencia2                              1755\n",
              "competencia3                              1755\n",
              "competencia4                              1755\n",
              "competencia5                              1755\n",
              "nota_final                                1755\n",
              "media_temporal_aluno                     45730\n",
              "media_temporal_corretor                   3029\n",
              "std_temporal_aluno                       45730\n",
              "std_temporal_corretor                     3029\n",
              "mediana_temporal_aluno                   45730\n",
              "mediana_temporal_corretor                 3029\n",
              "score_medio_temporal_aluno               20286\n",
              "score_medio_temporal_corretor              357\n",
              "score_std_temporal_aluno                 20286\n",
              "diff_score_media_corretor                 2095\n",
              "diff_score_media_aluno                   21704\n",
              "qtd_feedbacks_aluno                          0\n",
              "feedbacks_positivos_aluno                    0\n",
              "feedbacks_negativos_aluno                    0\n",
              "proporcao_feedback_positivo_aluno        20013\n",
              "proporcao_feedback_negativo_aluno        20013\n",
              "qtd_feedbacks_corretor                       0\n",
              "feedbacks_positivos_corretor                 0\n",
              "feedbacks_negativos_corretor                 0\n",
              "proporcao_feedback_positivo_corretor       329\n",
              "proporcao_feedback_negativo_corretor       329\n",
              "dtype: int64"
            ]
          },
          "metadata": {},
          "execution_count": 5
        }
      ]
    },
    {
      "cell_type": "code",
      "source": [
        "df.start = pd.to_datetime(df.start)\n",
        "df['year'] = [df.loc[i].start.year for i in range(len(df))]\n",
        "df2020 = df.query('year >= 2020')\n",
        "df2020.reset_index(inplace=True)\n",
        "df2020.drop(columns='index',inplace=True)"
      ],
      "metadata": {
        "colab": {
          "base_uri": "https://localhost:8080/"
        },
        "outputId": "d03c90c4-16bc-4c39-a510-f9b7a501cfcf",
        "id": "M3YFj4GNGZhP"
      },
      "execution_count": null,
      "outputs": [
        {
          "output_type": "stream",
          "name": "stderr",
          "text": [
            "/usr/local/lib/python3.7/dist-packages/pandas/core/frame.py:4913: SettingWithCopyWarning: \n",
            "A value is trying to be set on a copy of a slice from a DataFrame\n",
            "\n",
            "See the caveats in the documentation: https://pandas.pydata.org/pandas-docs/stable/user_guide/indexing.html#returning-a-view-versus-a-copy\n",
            "  errors=errors,\n"
          ]
        }
      ]
    },
    {
      "cell_type": "code",
      "source": [
        "df2020.dropna(inplace=True)\n",
        "df2020.reset_index(inplace=True)\n",
        "df2020.drop(columns=['index'],inplace=True)"
      ],
      "metadata": {
        "colab": {
          "base_uri": "https://localhost:8080/"
        },
        "id": "hd2JFrAtkc9w",
        "outputId": "c79ab305-eb80-404b-cb4b-088da4a89805"
      },
      "execution_count": null,
      "outputs": [
        {
          "output_type": "stream",
          "name": "stderr",
          "text": [
            "/usr/local/lib/python3.7/dist-packages/pandas/util/_decorators.py:311: SettingWithCopyWarning: \n",
            "A value is trying to be set on a copy of a slice from a DataFrame\n",
            "\n",
            "See the caveats in the documentation: https://pandas.pydata.org/pandas-docs/stable/user_guide/indexing.html#returning-a-view-versus-a-copy\n",
            "  return func(*args, **kwargs)\n",
            "/usr/local/lib/python3.7/dist-packages/pandas/core/frame.py:4913: SettingWithCopyWarning: \n",
            "A value is trying to be set on a copy of a slice from a DataFrame\n",
            "\n",
            "See the caveats in the documentation: https://pandas.pydata.org/pandas-docs/stable/user_guide/indexing.html#returning-a-view-versus-a-copy\n",
            "  errors=errors,\n"
          ]
        }
      ]
    },
    {
      "cell_type": "code",
      "source": [
        "df2020['feedback_rating'].value_counts()"
      ],
      "metadata": {
        "colab": {
          "base_uri": "https://localhost:8080/"
        },
        "outputId": "98bd40f1-c439-40ee-9b88-1a4eb5fc3485",
        "id": "ZopghAXrGZhP"
      },
      "execution_count": null,
      "outputs": [
        {
          "output_type": "execute_result",
          "data": {
            "text/plain": [
              "5.0    16274\n",
              "1.0     9587\n",
              "3.0     9364\n",
              "2.0     6256\n",
              "4.0     3907\n",
              "Name: feedback_rating, dtype: int64"
            ]
          },
          "metadata": {},
          "execution_count": 8
        }
      ]
    },
    {
      "cell_type": "code",
      "source": [
        "X = df2020.drop(columns = ['feedback_rating','start'])\n",
        "y = df2020['feedback_rating']"
      ],
      "metadata": {
        "id": "45UoJxKPGZhP"
      },
      "execution_count": null,
      "outputs": []
    },
    {
      "cell_type": "code",
      "source": [
        "import datetime\n",
        "(df2020.start < datetime.datetime(2021,9,1)).value_counts(normalize=True)*100"
      ],
      "metadata": {
        "colab": {
          "base_uri": "https://localhost:8080/"
        },
        "id": "azrv0yF9MO1V",
        "outputId": "d0826565-4452-4758-f750-468f843be5ee"
      },
      "execution_count": null,
      "outputs": [
        {
          "output_type": "execute_result",
          "data": {
            "text/plain": [
              "True     80.058606\n",
              "False    19.941394\n",
              "Name: start, dtype: float64"
            ]
          },
          "metadata": {},
          "execution_count": 10
        }
      ]
    },
    {
      "cell_type": "code",
      "source": [
        "train = df2020[(df2020.start < datetime.datetime(2021,9,1))].drop(columns=['start','year'])\n",
        "test = df2020[~(df2020.start < datetime.datetime(2021,9,1))].drop(columns=['start','year'])"
      ],
      "metadata": {
        "id": "UhxHlLUrGZhQ"
      },
      "execution_count": null,
      "outputs": []
    },
    {
      "cell_type": "code",
      "source": [
        "!pip install category_encoders"
      ],
      "metadata": {
        "id": "xuMRMd__GyjY",
        "colab": {
          "base_uri": "https://localhost:8080/"
        },
        "outputId": "6224fd80-2c0b-426b-f766-b9ab58ebd01b"
      },
      "execution_count": null,
      "outputs": [
        {
          "output_type": "stream",
          "name": "stdout",
          "text": [
            "Collecting category_encoders\n",
            "  Downloading category_encoders-2.4.1-py2.py3-none-any.whl (80 kB)\n",
            "\u001b[?25l\r\u001b[K     |████                            | 10 kB 10.8 MB/s eta 0:00:01\r\u001b[K     |████████                        | 20 kB 15.2 MB/s eta 0:00:01\r\u001b[K     |████████████▏                   | 30 kB 18.6 MB/s eta 0:00:01\r\u001b[K     |████████████████▏               | 40 kB 18.9 MB/s eta 0:00:01\r\u001b[K     |████████████████████▎           | 51 kB 14.8 MB/s eta 0:00:01\r\u001b[K     |████████████████████████▎       | 61 kB 16.9 MB/s eta 0:00:01\r\u001b[K     |████████████████████████████▍   | 71 kB 12.7 MB/s eta 0:00:01\r\u001b[K     |████████████████████████████████| 80 kB 5.7 MB/s \n",
            "\u001b[?25hRequirement already satisfied: scipy>=1.0.0 in /usr/local/lib/python3.7/dist-packages (from category_encoders) (1.4.1)\n",
            "Requirement already satisfied: patsy>=0.5.1 in /usr/local/lib/python3.7/dist-packages (from category_encoders) (0.5.2)\n",
            "Requirement already satisfied: statsmodels>=0.9.0 in /usr/local/lib/python3.7/dist-packages (from category_encoders) (0.10.2)\n",
            "Requirement already satisfied: pandas>=0.21.1 in /usr/local/lib/python3.7/dist-packages (from category_encoders) (1.3.5)\n",
            "Requirement already satisfied: numpy>=1.14.0 in /usr/local/lib/python3.7/dist-packages (from category_encoders) (1.21.6)\n",
            "Requirement already satisfied: scikit-learn>=0.20.0 in /usr/local/lib/python3.7/dist-packages (from category_encoders) (1.0.2)\n",
            "Requirement already satisfied: pytz>=2017.3 in /usr/local/lib/python3.7/dist-packages (from pandas>=0.21.1->category_encoders) (2022.1)\n",
            "Requirement already satisfied: python-dateutil>=2.7.3 in /usr/local/lib/python3.7/dist-packages (from pandas>=0.21.1->category_encoders) (2.8.2)\n",
            "Requirement already satisfied: six in /usr/local/lib/python3.7/dist-packages (from patsy>=0.5.1->category_encoders) (1.15.0)\n",
            "Requirement already satisfied: threadpoolctl>=2.0.0 in /usr/local/lib/python3.7/dist-packages (from scikit-learn>=0.20.0->category_encoders) (3.1.0)\n",
            "Requirement already satisfied: joblib>=0.11 in /usr/local/lib/python3.7/dist-packages (from scikit-learn>=0.20.0->category_encoders) (1.1.0)\n",
            "Installing collected packages: category-encoders\n",
            "Successfully installed category-encoders-2.4.1\n"
          ]
        }
      ]
    },
    {
      "cell_type": "code",
      "source": [
        "\n",
        "#aplicando o encoder nas colunas categóricas\n",
        "\n",
        "import category_encoders as ce \n",
        "# parâmetro cols identifica as colunas categóricas\n",
        "js_treino = ce.JamesSteinEncoder(cols=['tipo_cliente','formato_redacao', 'dia_semana',\n",
        "                                       'mes_ano','dia_mes','theme_id_essay',\n",
        "                                       ], model='beta')\n",
        "\n",
        "\n",
        "\n",
        "treino = js_treino.fit_transform(train.drop(columns='feedback_rating'), train.feedback_rating)\n",
        "\n",
        "teste = js_treino.transform(test.drop(columns='feedback_rating'))\n",
        "\n",
        "\n",
        "treino = pd.concat([treino,train.feedback_rating],axis=1)\n",
        "\n",
        "teste = pd.concat([teste,test.feedback_rating],axis=1)"
      ],
      "metadata": {
        "id": "_V7UNwfhGZhR",
        "colab": {
          "base_uri": "https://localhost:8080/"
        },
        "outputId": "b17a75f8-1cf0-457e-f4b3-1e3b46266e38"
      },
      "execution_count": null,
      "outputs": [
        {
          "output_type": "stream",
          "name": "stderr",
          "text": [
            "/usr/local/lib/python3.7/dist-packages/statsmodels/tools/_testing.py:19: FutureWarning: pandas.util.testing is deprecated. Use the functions in the public API at pandas.testing instead.\n",
            "  import pandas.util.testing as tm\n"
          ]
        }
      ]
    },
    {
      "cell_type": "code",
      "source": [
        "X_train2 = treino.drop(columns='feedback_rating')\n",
        "y_train2 = treino.feedback_rating\n",
        "\n",
        "X_test2 = teste.drop(columns='feedback_rating')\n",
        "y_test2 = teste.feedback_rating\n"
      ],
      "metadata": {
        "id": "d7q-NqC6GZhR"
      },
      "execution_count": null,
      "outputs": []
    },
    {
      "cell_type": "code",
      "source": [
        "from imblearn.under_sampling import RandomUnderSampler\n",
        "rus = RandomUnderSampler(random_state=123)\n",
        "X_resampled, y_resampled = rus.fit_resample(X_train2, y_train2)"
      ],
      "metadata": {
        "id": "u3GkXSx-GZhQ"
      },
      "execution_count": null,
      "outputs": []
    },
    {
      "cell_type": "code",
      "source": [
        "from sklearn.ensemble import RandomForestRegressor\n",
        "from sklearn.ensemble import GradientBoostingRegressor\n",
        "from sklearn.ensemble import AdaBoostRegressor\n",
        "from sklearn.linear_model import LinearRegression\n",
        "from sklearn.metrics import mean_squared_error\n",
        "from sklearn.metrics import mean_absolute_error\n",
        "\n",
        "def treinar_modelos(lista_modelos,x_treino,y_treino,x_test,y_test):\n",
        "  mae = []\n",
        "  mse = []\n",
        "  dic_metricas = {'MAE':mae,'MSE':mse}\n",
        "  for i in range(len(lista_modelos)):\n",
        "    lista_modelos[i].fit(x_treino,y_treino)\n",
        "    y_pred = lista_modelos[i].predict(x_test)\n",
        "\n",
        "    mae.append((str(lista_modelos[i]),mean_absolute_error(y_test,y_pred)))\n",
        "    mse.append((str(lista_modelos[i]),mean_squared_error(y_test,y_pred)))\n",
        "\n",
        "  return dic_metricas"
      ],
      "metadata": {
        "id": "oTHLYfUMGZhR"
      },
      "execution_count": null,
      "outputs": []
    },
    {
      "cell_type": "code",
      "source": [
        "modelos = [RandomForestRegressor(),GradientBoostingRegressor(),AdaBoostRegressor(),LinearRegression()]\n",
        "resultados = treinar_modelos(modelos,X_resampled,y_resampled,X_test2,y_test2)"
      ],
      "metadata": {
        "id": "at8wlgJIGZhR"
      },
      "execution_count": null,
      "outputs": []
    },
    {
      "cell_type": "code",
      "source": [
        "resultados"
      ],
      "metadata": {
        "colab": {
          "base_uri": "https://localhost:8080/"
        },
        "outputId": "b8147887-7609-4c57-a0a0-c366ebffaf24",
        "id": "s0NCQU42GZhS"
      },
      "execution_count": null,
      "outputs": [
        {
          "output_type": "execute_result",
          "data": {
            "text/plain": [
              "{'MAE': [('RandomForestRegressor()', 0.9944591757816816),\n",
              "  ('GradientBoostingRegressor()', 0.962904011866874),\n",
              "  ('AdaBoostRegressor()', 1.1622419392775651),\n",
              "  ('LinearRegression()', 0.9938319719154681)],\n",
              " 'MSE': [('RandomForestRegressor()', 1.425400784443708),\n",
              "  ('GradientBoostingRegressor()', 1.3551597011204866),\n",
              "  ('AdaBoostRegressor()', 1.7504744359846036),\n",
              "  ('LinearRegression()', 1.4196100070694706)]}"
            ]
          },
          "metadata": {},
          "execution_count": 18
        }
      ]
    },
    {
      "cell_type": "code",
      "source": [
        "resultados['MAE']"
      ],
      "metadata": {
        "colab": {
          "base_uri": "https://localhost:8080/"
        },
        "id": "37SjhH6Wxkb7",
        "outputId": "9779ebf4-fed4-4122-ee3f-35ae72e9765a"
      },
      "execution_count": null,
      "outputs": [
        {
          "output_type": "execute_result",
          "data": {
            "text/plain": [
              "[('RandomForestRegressor()', 0.9944591757816816),\n",
              " ('GradientBoostingRegressor()', 0.962904011866874),\n",
              " ('AdaBoostRegressor()', 1.1622419392775651),\n",
              " ('LinearRegression()', 0.9938319719154681)]"
            ]
          },
          "metadata": {},
          "execution_count": 19
        }
      ]
    },
    {
      "cell_type": "code",
      "source": [
        "resultados['MSE']"
      ],
      "metadata": {
        "colab": {
          "base_uri": "https://localhost:8080/"
        },
        "id": "obUrtwfVxnZ2",
        "outputId": "4e1d1ee7-b62a-4a22-bb82-9e692c13bb2d"
      },
      "execution_count": null,
      "outputs": [
        {
          "output_type": "execute_result",
          "data": {
            "text/plain": [
              "[('RandomForestRegressor()', 1.425400784443708),\n",
              " ('GradientBoostingRegressor()', 1.3551597011204866),\n",
              " ('AdaBoostRegressor()', 1.7504744359846036),\n",
              " ('LinearRegression()', 1.4196100070694706)]"
            ]
          },
          "metadata": {},
          "execution_count": 20
        }
      ]
    },
    {
      "cell_type": "markdown",
      "source": [
        "##Apenas com o 1"
      ],
      "metadata": {
        "id": "UJImB84Unf50"
      }
    },
    {
      "cell_type": "code",
      "source": [
        "df = pd.read_csv('/content/drive/Shareddrives/Imaginie/BD/dataset_finalv2.csv').dropna(subset=['feedback_rating','correction_time'])\n",
        "df = df.query('feedback_rating > 0 & oficial_feedback_revis == 1').drop(columns = ['oficial_feedback_revis'])\n",
        "df.reset_index(inplace=True)\n",
        "df.drop(columns='index',inplace=True)"
      ],
      "metadata": {
        "id": "79TzKavXnoQQ"
      },
      "execution_count": null,
      "outputs": []
    },
    {
      "cell_type": "code",
      "source": [
        "df.head()"
      ],
      "metadata": {
        "colab": {
          "base_uri": "https://localhost:8080/",
          "height": 473
        },
        "outputId": "cbd1b2ac-1c13-4da3-b1b1-9bf04d9897c6",
        "id": "AsPjpM1UQPMt"
      },
      "execution_count": null,
      "outputs": [
        {
          "output_type": "execute_result",
          "data": {
            "text/plain": [
              "  tipo_cliente formato_redacao                start  tamanho_comentario_geral  \\\n",
              "0   Individual          Imagem  2015-04-10 00:51:22                         0   \n",
              "1   Individual          Imagem  2015-04-21 12:40:07                       287   \n",
              "2   Individual          Imagem  2015-04-21 14:28:42                       232   \n",
              "3   Individual          Imagem  2015-04-23 18:26:09                         0   \n",
              "4   Individual          Imagem  2015-05-14 14:35:51                       259   \n",
              "\n",
              "   correction_time  feedback_rating  final_score  proporcao_positiva  \\\n",
              "0           2039.0              4.0        680.0                 0.0   \n",
              "1           1522.0              1.0        320.0                 0.0   \n",
              "2           1207.0              1.0        360.0                 0.0   \n",
              "3           2322.0              1.0        480.0                 0.0   \n",
              "4            945.0              4.0        640.0                 0.0   \n",
              "\n",
              "   qtd_comentarios_especificos  proporcao_negativa  ...  media_temporal_aluno  \\\n",
              "0                           15                 1.0  ...                   NaN   \n",
              "1                           23                 1.0  ...                   NaN   \n",
              "2                           21                 1.0  ...                   NaN   \n",
              "3                           22                 1.0  ...                   NaN   \n",
              "4                           26                 1.0  ...                   NaN   \n",
              "\n",
              "   media_temporal_corretor  std_temporal_aluno  std_temporal_corretor  \\\n",
              "0                      NaN                 NaN                    NaN   \n",
              "1                     4.00                 NaN               0.000000   \n",
              "2                     2.50                 NaN               1.500000   \n",
              "3                     1.75                 NaN               1.414214   \n",
              "4                      NaN                 NaN                    NaN   \n",
              "\n",
              "   mediana_temporal_aluno  mediana_temporal_corretor  \\\n",
              "0                     NaN                        NaN   \n",
              "1                     NaN                        4.0   \n",
              "2                     NaN                        2.5   \n",
              "3                     NaN                        1.0   \n",
              "4                     NaN                        NaN   \n",
              "\n",
              "   score_medio_temporal_aluno  score_medio_temporal_corretor  \\\n",
              "0                         NaN                       0.000000   \n",
              "1                         0.0                      21.250000   \n",
              "2                         NaN                      21.328125   \n",
              "3                         NaN                       5.958252   \n",
              "4                         NaN                      35.000000   \n",
              "\n",
              "   score_std_temporal_aluno  diff_score_media  \n",
              "0                       NaN               NaN  \n",
              "1                       0.0             316.0  \n",
              "2                       NaN             357.5  \n",
              "3                       NaN             479.0  \n",
              "4                       NaN               NaN  \n",
              "\n",
              "[5 rows x 32 columns]"
            ],
            "text/html": [
              "\n",
              "  <div id=\"df-a80d081c-6049-42ce-8ca1-fc6f0e1dc7ad\">\n",
              "    <div class=\"colab-df-container\">\n",
              "      <div>\n",
              "<style scoped>\n",
              "    .dataframe tbody tr th:only-of-type {\n",
              "        vertical-align: middle;\n",
              "    }\n",
              "\n",
              "    .dataframe tbody tr th {\n",
              "        vertical-align: top;\n",
              "    }\n",
              "\n",
              "    .dataframe thead th {\n",
              "        text-align: right;\n",
              "    }\n",
              "</style>\n",
              "<table border=\"1\" class=\"dataframe\">\n",
              "  <thead>\n",
              "    <tr style=\"text-align: right;\">\n",
              "      <th></th>\n",
              "      <th>tipo_cliente</th>\n",
              "      <th>formato_redacao</th>\n",
              "      <th>start</th>\n",
              "      <th>tamanho_comentario_geral</th>\n",
              "      <th>correction_time</th>\n",
              "      <th>feedback_rating</th>\n",
              "      <th>final_score</th>\n",
              "      <th>proporcao_positiva</th>\n",
              "      <th>qtd_comentarios_especificos</th>\n",
              "      <th>proporcao_negativa</th>\n",
              "      <th>...</th>\n",
              "      <th>media_temporal_aluno</th>\n",
              "      <th>media_temporal_corretor</th>\n",
              "      <th>std_temporal_aluno</th>\n",
              "      <th>std_temporal_corretor</th>\n",
              "      <th>mediana_temporal_aluno</th>\n",
              "      <th>mediana_temporal_corretor</th>\n",
              "      <th>score_medio_temporal_aluno</th>\n",
              "      <th>score_medio_temporal_corretor</th>\n",
              "      <th>score_std_temporal_aluno</th>\n",
              "      <th>diff_score_media</th>\n",
              "    </tr>\n",
              "  </thead>\n",
              "  <tbody>\n",
              "    <tr>\n",
              "      <th>0</th>\n",
              "      <td>Individual</td>\n",
              "      <td>Imagem</td>\n",
              "      <td>2015-04-10 00:51:22</td>\n",
              "      <td>0</td>\n",
              "      <td>2039.0</td>\n",
              "      <td>4.0</td>\n",
              "      <td>680.0</td>\n",
              "      <td>0.0</td>\n",
              "      <td>15</td>\n",
              "      <td>1.0</td>\n",
              "      <td>...</td>\n",
              "      <td>NaN</td>\n",
              "      <td>NaN</td>\n",
              "      <td>NaN</td>\n",
              "      <td>NaN</td>\n",
              "      <td>NaN</td>\n",
              "      <td>NaN</td>\n",
              "      <td>NaN</td>\n",
              "      <td>0.000000</td>\n",
              "      <td>NaN</td>\n",
              "      <td>NaN</td>\n",
              "    </tr>\n",
              "    <tr>\n",
              "      <th>1</th>\n",
              "      <td>Individual</td>\n",
              "      <td>Imagem</td>\n",
              "      <td>2015-04-21 12:40:07</td>\n",
              "      <td>287</td>\n",
              "      <td>1522.0</td>\n",
              "      <td>1.0</td>\n",
              "      <td>320.0</td>\n",
              "      <td>0.0</td>\n",
              "      <td>23</td>\n",
              "      <td>1.0</td>\n",
              "      <td>...</td>\n",
              "      <td>NaN</td>\n",
              "      <td>4.00</td>\n",
              "      <td>NaN</td>\n",
              "      <td>0.000000</td>\n",
              "      <td>NaN</td>\n",
              "      <td>4.0</td>\n",
              "      <td>0.0</td>\n",
              "      <td>21.250000</td>\n",
              "      <td>0.0</td>\n",
              "      <td>316.0</td>\n",
              "    </tr>\n",
              "    <tr>\n",
              "      <th>2</th>\n",
              "      <td>Individual</td>\n",
              "      <td>Imagem</td>\n",
              "      <td>2015-04-21 14:28:42</td>\n",
              "      <td>232</td>\n",
              "      <td>1207.0</td>\n",
              "      <td>1.0</td>\n",
              "      <td>360.0</td>\n",
              "      <td>0.0</td>\n",
              "      <td>21</td>\n",
              "      <td>1.0</td>\n",
              "      <td>...</td>\n",
              "      <td>NaN</td>\n",
              "      <td>2.50</td>\n",
              "      <td>NaN</td>\n",
              "      <td>1.500000</td>\n",
              "      <td>NaN</td>\n",
              "      <td>2.5</td>\n",
              "      <td>NaN</td>\n",
              "      <td>21.328125</td>\n",
              "      <td>NaN</td>\n",
              "      <td>357.5</td>\n",
              "    </tr>\n",
              "    <tr>\n",
              "      <th>3</th>\n",
              "      <td>Individual</td>\n",
              "      <td>Imagem</td>\n",
              "      <td>2015-04-23 18:26:09</td>\n",
              "      <td>0</td>\n",
              "      <td>2322.0</td>\n",
              "      <td>1.0</td>\n",
              "      <td>480.0</td>\n",
              "      <td>0.0</td>\n",
              "      <td>22</td>\n",
              "      <td>1.0</td>\n",
              "      <td>...</td>\n",
              "      <td>NaN</td>\n",
              "      <td>1.75</td>\n",
              "      <td>NaN</td>\n",
              "      <td>1.414214</td>\n",
              "      <td>NaN</td>\n",
              "      <td>1.0</td>\n",
              "      <td>NaN</td>\n",
              "      <td>5.958252</td>\n",
              "      <td>NaN</td>\n",
              "      <td>479.0</td>\n",
              "    </tr>\n",
              "    <tr>\n",
              "      <th>4</th>\n",
              "      <td>Individual</td>\n",
              "      <td>Imagem</td>\n",
              "      <td>2015-05-14 14:35:51</td>\n",
              "      <td>259</td>\n",
              "      <td>945.0</td>\n",
              "      <td>4.0</td>\n",
              "      <td>640.0</td>\n",
              "      <td>0.0</td>\n",
              "      <td>26</td>\n",
              "      <td>1.0</td>\n",
              "      <td>...</td>\n",
              "      <td>NaN</td>\n",
              "      <td>NaN</td>\n",
              "      <td>NaN</td>\n",
              "      <td>NaN</td>\n",
              "      <td>NaN</td>\n",
              "      <td>NaN</td>\n",
              "      <td>NaN</td>\n",
              "      <td>35.000000</td>\n",
              "      <td>NaN</td>\n",
              "      <td>NaN</td>\n",
              "    </tr>\n",
              "  </tbody>\n",
              "</table>\n",
              "<p>5 rows × 32 columns</p>\n",
              "</div>\n",
              "      <button class=\"colab-df-convert\" onclick=\"convertToInteractive('df-a80d081c-6049-42ce-8ca1-fc6f0e1dc7ad')\"\n",
              "              title=\"Convert this dataframe to an interactive table.\"\n",
              "              style=\"display:none;\">\n",
              "        \n",
              "  <svg xmlns=\"http://www.w3.org/2000/svg\" height=\"24px\"viewBox=\"0 0 24 24\"\n",
              "       width=\"24px\">\n",
              "    <path d=\"M0 0h24v24H0V0z\" fill=\"none\"/>\n",
              "    <path d=\"M18.56 5.44l.94 2.06.94-2.06 2.06-.94-2.06-.94-.94-2.06-.94 2.06-2.06.94zm-11 1L8.5 8.5l.94-2.06 2.06-.94-2.06-.94L8.5 2.5l-.94 2.06-2.06.94zm10 10l.94 2.06.94-2.06 2.06-.94-2.06-.94-.94-2.06-.94 2.06-2.06.94z\"/><path d=\"M17.41 7.96l-1.37-1.37c-.4-.4-.92-.59-1.43-.59-.52 0-1.04.2-1.43.59L10.3 9.45l-7.72 7.72c-.78.78-.78 2.05 0 2.83L4 21.41c.39.39.9.59 1.41.59.51 0 1.02-.2 1.41-.59l7.78-7.78 2.81-2.81c.8-.78.8-2.07 0-2.86zM5.41 20L4 18.59l7.72-7.72 1.47 1.35L5.41 20z\"/>\n",
              "  </svg>\n",
              "      </button>\n",
              "      \n",
              "  <style>\n",
              "    .colab-df-container {\n",
              "      display:flex;\n",
              "      flex-wrap:wrap;\n",
              "      gap: 12px;\n",
              "    }\n",
              "\n",
              "    .colab-df-convert {\n",
              "      background-color: #E8F0FE;\n",
              "      border: none;\n",
              "      border-radius: 50%;\n",
              "      cursor: pointer;\n",
              "      display: none;\n",
              "      fill: #1967D2;\n",
              "      height: 32px;\n",
              "      padding: 0 0 0 0;\n",
              "      width: 32px;\n",
              "    }\n",
              "\n",
              "    .colab-df-convert:hover {\n",
              "      background-color: #E2EBFA;\n",
              "      box-shadow: 0px 1px 2px rgba(60, 64, 67, 0.3), 0px 1px 3px 1px rgba(60, 64, 67, 0.15);\n",
              "      fill: #174EA6;\n",
              "    }\n",
              "\n",
              "    [theme=dark] .colab-df-convert {\n",
              "      background-color: #3B4455;\n",
              "      fill: #D2E3FC;\n",
              "    }\n",
              "\n",
              "    [theme=dark] .colab-df-convert:hover {\n",
              "      background-color: #434B5C;\n",
              "      box-shadow: 0px 1px 3px 1px rgba(0, 0, 0, 0.15);\n",
              "      filter: drop-shadow(0px 1px 2px rgba(0, 0, 0, 0.3));\n",
              "      fill: #FFFFFF;\n",
              "    }\n",
              "  </style>\n",
              "\n",
              "      <script>\n",
              "        const buttonEl =\n",
              "          document.querySelector('#df-a80d081c-6049-42ce-8ca1-fc6f0e1dc7ad button.colab-df-convert');\n",
              "        buttonEl.style.display =\n",
              "          google.colab.kernel.accessAllowed ? 'block' : 'none';\n",
              "\n",
              "        async function convertToInteractive(key) {\n",
              "          const element = document.querySelector('#df-a80d081c-6049-42ce-8ca1-fc6f0e1dc7ad');\n",
              "          const dataTable =\n",
              "            await google.colab.kernel.invokeFunction('convertToInteractive',\n",
              "                                                     [key], {});\n",
              "          if (!dataTable) return;\n",
              "\n",
              "          const docLinkHtml = 'Like what you see? Visit the ' +\n",
              "            '<a target=\"_blank\" href=https://colab.research.google.com/notebooks/data_table.ipynb>data table notebook</a>'\n",
              "            + ' to learn more about interactive tables.';\n",
              "          element.innerHTML = '';\n",
              "          dataTable['output_type'] = 'display_data';\n",
              "          await google.colab.output.renderOutput(dataTable, element);\n",
              "          const docLink = document.createElement('div');\n",
              "          docLink.innerHTML = docLinkHtml;\n",
              "          element.appendChild(docLink);\n",
              "        }\n",
              "      </script>\n",
              "    </div>\n",
              "  </div>\n",
              "  "
            ]
          },
          "metadata": {},
          "execution_count": 45
        }
      ]
    },
    {
      "cell_type": "code",
      "source": [
        "df.isnull().sum()"
      ],
      "metadata": {
        "colab": {
          "base_uri": "https://localhost:8080/"
        },
        "outputId": "e5d58267-01f6-4be6-8a1f-94c4d7261cf3",
        "id": "c0WzYOTTQPMt"
      },
      "execution_count": null,
      "outputs": [
        {
          "output_type": "execute_result",
          "data": {
            "text/plain": [
              "tipo_cliente                                 0\n",
              "formato_redacao                              0\n",
              "start                                        0\n",
              "tamanho_comentario_geral                     0\n",
              "correction_time                              0\n",
              "feedback_rating                              0\n",
              "final_score                                  0\n",
              "proporcao_positiva                           0\n",
              "qtd_comentarios_especificos                  0\n",
              "proporcao_negativa                           0\n",
              "qtd_comentarios_positivos                    0\n",
              "qtd_comentarios_negativos                    0\n",
              "tamanho_medio_comentarios_especificos        0\n",
              "tempo_vinculo_corretor                       0\n",
              "qtd_correcoes_anteriores                     0\n",
              "qtd_correcoes_dia                            0\n",
              "tempo_espera                                 0\n",
              "dia_semana                                   0\n",
              "mes_ano                                      0\n",
              "dia_mes                                      0\n",
              "tempo_vinculo_aluno                          0\n",
              "theme_id_essay                               0\n",
              "media_temporal_aluno                     38171\n",
              "media_temporal_corretor                   2444\n",
              "std_temporal_aluno                       38171\n",
              "std_temporal_corretor                     2444\n",
              "mediana_temporal_aluno                   38171\n",
              "mediana_temporal_corretor                 2444\n",
              "score_medio_temporal_aluno               18358\n",
              "score_medio_temporal_corretor              261\n",
              "score_std_temporal_aluno                 18358\n",
              "diff_score_media                          2444\n",
              "dtype: int64"
            ]
          },
          "metadata": {},
          "execution_count": 46
        }
      ]
    },
    {
      "cell_type": "code",
      "source": [
        "df.start = pd.to_datetime(df.start)\n",
        "df['year'] = [df.loc[i].start.year for i in range(len(df))]\n",
        "df2020 = df.query('year >= 2020')\n",
        "df2020.reset_index(inplace=True)\n",
        "df2020.drop(columns='index',inplace=True)"
      ],
      "metadata": {
        "colab": {
          "base_uri": "https://localhost:8080/"
        },
        "outputId": "9d7f7d22-4a74-4ce3-cb2a-8c6faef3329d",
        "id": "4JVaoqYBQPMt"
      },
      "execution_count": null,
      "outputs": [
        {
          "output_type": "stream",
          "name": "stderr",
          "text": [
            "/usr/local/lib/python3.7/dist-packages/pandas/core/frame.py:4913: SettingWithCopyWarning: \n",
            "A value is trying to be set on a copy of a slice from a DataFrame\n",
            "\n",
            "See the caveats in the documentation: https://pandas.pydata.org/pandas-docs/stable/user_guide/indexing.html#returning-a-view-versus-a-copy\n",
            "  errors=errors,\n"
          ]
        }
      ]
    },
    {
      "cell_type": "code",
      "source": [
        "df2020.dropna(inplace=True)\n",
        "df2020.reset_index(inplace=True)\n",
        "df2020.drop(columns=['index'],inplace=True)"
      ],
      "metadata": {
        "colab": {
          "base_uri": "https://localhost:8080/"
        },
        "outputId": "f680e80a-e958-48cc-def6-bbe9d166fd48",
        "id": "jQ9R_Oy1QPMt"
      },
      "execution_count": null,
      "outputs": [
        {
          "output_type": "stream",
          "name": "stderr",
          "text": [
            "/usr/local/lib/python3.7/dist-packages/pandas/util/_decorators.py:311: SettingWithCopyWarning: \n",
            "A value is trying to be set on a copy of a slice from a DataFrame\n",
            "\n",
            "See the caveats in the documentation: https://pandas.pydata.org/pandas-docs/stable/user_guide/indexing.html#returning-a-view-versus-a-copy\n",
            "  return func(*args, **kwargs)\n",
            "/usr/local/lib/python3.7/dist-packages/pandas/core/frame.py:4913: SettingWithCopyWarning: \n",
            "A value is trying to be set on a copy of a slice from a DataFrame\n",
            "\n",
            "See the caveats in the documentation: https://pandas.pydata.org/pandas-docs/stable/user_guide/indexing.html#returning-a-view-versus-a-copy\n",
            "  errors=errors,\n"
          ]
        }
      ]
    },
    {
      "cell_type": "code",
      "source": [
        "df2020['feedback_rating'].value_counts()"
      ],
      "metadata": {
        "colab": {
          "base_uri": "https://localhost:8080/"
        },
        "outputId": "159ede0c-d2f7-4919-b80e-e479235b1e01",
        "id": "5ylnPArIQPMu"
      },
      "execution_count": null,
      "outputs": [
        {
          "output_type": "execute_result",
          "data": {
            "text/plain": [
              "5.0    16287\n",
              "4.0     3885\n",
              "1.0     3512\n",
              "3.0     3145\n",
              "2.0     2068\n",
              "Name: feedback_rating, dtype: int64"
            ]
          },
          "metadata": {},
          "execution_count": 49
        }
      ]
    },
    {
      "cell_type": "code",
      "source": [
        "X = df2020.drop(columns = ['feedback_rating','start'])\n",
        "y = df2020['feedback_rating']"
      ],
      "metadata": {
        "id": "5ai2phq3QPMu"
      },
      "execution_count": null,
      "outputs": []
    },
    {
      "cell_type": "code",
      "source": [
        "from sklearn.model_selection import train_test_split\n",
        "\n",
        "X_train, X_test, y_train, y_test = train_test_split(X, y, test_size=0.33, random_state=123)"
      ],
      "metadata": {
        "id": "fzpaJ0SEQPMu"
      },
      "execution_count": null,
      "outputs": []
    },
    {
      "cell_type": "code",
      "source": [
        "!pip install category_encoders"
      ],
      "metadata": {
        "colab": {
          "base_uri": "https://localhost:8080/"
        },
        "outputId": "8adcae0a-76fc-43a5-eeec-e9ae390f5318",
        "id": "QuW9zQiCQPMu"
      },
      "execution_count": null,
      "outputs": [
        {
          "output_type": "stream",
          "name": "stdout",
          "text": [
            "Requirement already satisfied: category_encoders in /usr/local/lib/python3.7/dist-packages (2.4.0)\n",
            "Requirement already satisfied: pandas>=0.21.1 in /usr/local/lib/python3.7/dist-packages (from category_encoders) (1.3.5)\n",
            "Requirement already satisfied: statsmodels>=0.9.0 in /usr/local/lib/python3.7/dist-packages (from category_encoders) (0.10.2)\n",
            "Requirement already satisfied: scikit-learn>=0.20.0 in /usr/local/lib/python3.7/dist-packages (from category_encoders) (1.0.2)\n",
            "Requirement already satisfied: numpy>=1.14.0 in /usr/local/lib/python3.7/dist-packages (from category_encoders) (1.21.6)\n",
            "Requirement already satisfied: patsy>=0.5.1 in /usr/local/lib/python3.7/dist-packages (from category_encoders) (0.5.2)\n",
            "Requirement already satisfied: scipy>=1.0.0 in /usr/local/lib/python3.7/dist-packages (from category_encoders) (1.4.1)\n",
            "Requirement already satisfied: pytz>=2017.3 in /usr/local/lib/python3.7/dist-packages (from pandas>=0.21.1->category_encoders) (2022.1)\n",
            "Requirement already satisfied: python-dateutil>=2.7.3 in /usr/local/lib/python3.7/dist-packages (from pandas>=0.21.1->category_encoders) (2.8.2)\n",
            "Requirement already satisfied: six in /usr/local/lib/python3.7/dist-packages (from patsy>=0.5.1->category_encoders) (1.15.0)\n",
            "Requirement already satisfied: joblib>=0.11 in /usr/local/lib/python3.7/dist-packages (from scikit-learn>=0.20.0->category_encoders) (1.1.0)\n",
            "Requirement already satisfied: threadpoolctl>=2.0.0 in /usr/local/lib/python3.7/dist-packages (from scikit-learn>=0.20.0->category_encoders) (3.1.0)\n"
          ]
        }
      ]
    },
    {
      "cell_type": "code",
      "source": [
        "\n",
        "#aplicando o encoder nas colunas categóricas\n",
        "\n",
        "import category_encoders as ce \n",
        "# parâmetro cols identifica as colunas categóricas\n",
        "js_treino = ce.JamesSteinEncoder(cols=['tipo_cliente','formato_redacao', 'dia_semana',\n",
        "                                       'mes_ano','dia_mes','theme_id_essay'], model='beta')\n",
        "\n",
        "\n",
        "\n",
        "treino = js_treino.fit_transform(X_train, y_train)\n",
        "\n",
        "teste = js_treino.transform(X_test)\n",
        "\n",
        "\n",
        "treino = pd.concat([treino,y_train],axis=1)\n",
        "\n",
        "teste = pd.concat([teste,y_test],axis=1)"
      ],
      "metadata": {
        "id": "qgP8808TQPMu"
      },
      "execution_count": null,
      "outputs": []
    },
    {
      "cell_type": "code",
      "source": [
        "X_train2 = treino.drop(columns='feedback_rating')\n",
        "y_train2 = treino.feedback_rating\n",
        "\n",
        "X_test2 = teste.drop(columns='feedback_rating')\n",
        "y_test2 = teste.feedback_rating\n"
      ],
      "metadata": {
        "id": "IiIiZkjEQPMu"
      },
      "execution_count": null,
      "outputs": []
    },
    {
      "cell_type": "code",
      "source": [
        "from imblearn.under_sampling import RandomUnderSampler\n",
        "rus = RandomUnderSampler(random_state=123)\n",
        "X_resampled, y_resampled = rus.fit_resample(X_train2, y_train2)"
      ],
      "metadata": {
        "id": "cVsfv6D-QPMu"
      },
      "execution_count": null,
      "outputs": []
    },
    {
      "cell_type": "code",
      "source": [
        "from sklearn.ensemble import RandomForestRegressor\n",
        "from sklearn.ensemble import GradientBoostingRegressor\n",
        "from sklearn.ensemble import AdaBoostRegressor\n",
        "from sklearn.linear_model import LinearRegression\n",
        "from sklearn.metrics import mean_squared_error\n",
        "from sklearn.metrics import mean_absolute_error\n",
        "\n",
        "def treinar_modelos(lista_modelos,x_treino,y_treino,x_test,y_test):\n",
        "  mae = []\n",
        "  mse = []\n",
        "  dic_metricas = {'MAE':mae,'MSE':mse}\n",
        "  for i in range(len(lista_modelos)):\n",
        "    lista_modelos[i].fit(x_treino,y_treino)\n",
        "    y_pred = lista_modelos[i].predict(x_test)\n",
        "\n",
        "    mae.append((str(lista_modelos[i]),mean_absolute_error(y_test,y_pred)))\n",
        "    mse.append((str(lista_modelos[i]),mean_squared_error(y_test,y_pred)))\n",
        "\n",
        "  return dic_metricas"
      ],
      "metadata": {
        "id": "u7bRU0NPQPMu"
      },
      "execution_count": null,
      "outputs": []
    },
    {
      "cell_type": "code",
      "source": [
        "modelos = [RandomForestRegressor(),GradientBoostingRegressor(),AdaBoostRegressor(),LinearRegression()]\n",
        "resultados = treinar_modelos(modelos,X_resampled,y_resampled,X_test2,y_test2)"
      ],
      "metadata": {
        "id": "Cwumlnc5QPMu"
      },
      "execution_count": null,
      "outputs": []
    },
    {
      "cell_type": "code",
      "source": [
        "X_resampled.shape"
      ],
      "metadata": {
        "colab": {
          "base_uri": "https://localhost:8080/"
        },
        "outputId": "e3398206-b008-4fb2-a05a-24542aef3385",
        "id": "zUcVUGw_QPMu"
      },
      "execution_count": null,
      "outputs": [
        {
          "output_type": "execute_result",
          "data": {
            "text/plain": [
              "(6920, 31)"
            ]
          },
          "metadata": {},
          "execution_count": 58
        }
      ]
    },
    {
      "cell_type": "code",
      "source": [
        "X_test2.shape"
      ],
      "metadata": {
        "colab": {
          "base_uri": "https://localhost:8080/"
        },
        "outputId": "238fb170-94f1-454a-b122-94b70f5d3a24",
        "id": "-g8zq2cJQPMu"
      },
      "execution_count": null,
      "outputs": [
        {
          "output_type": "execute_result",
          "data": {
            "text/plain": [
              "(9537, 31)"
            ]
          },
          "metadata": {},
          "execution_count": 59
        }
      ]
    },
    {
      "cell_type": "code",
      "source": [
        "resultados"
      ],
      "metadata": {
        "colab": {
          "base_uri": "https://localhost:8080/"
        },
        "outputId": "ec223955-0657-47ce-bd93-63811b23abae",
        "id": "Vgcht2hRQPMu"
      },
      "execution_count": null,
      "outputs": [
        {
          "output_type": "execute_result",
          "data": {
            "text/plain": [
              "{'MAE': [('RandomForestRegressor()', 1.1071542413756945),\n",
              "  ('GradientBoostingRegressor()', 1.087843460670053),\n",
              "  ('AdaBoostRegressor()', 1.287340875250823),\n",
              "  ('LinearRegression()', 1.1235234484122543)],\n",
              " 'MSE': [('RandomForestRegressor()', 1.6780127398553002),\n",
              "  ('GradientBoostingRegressor()', 1.6257681984739476),\n",
              "  ('AdaBoostRegressor()', 2.032770656531925),\n",
              "  ('LinearRegression()', 1.6796700478758761)]}"
            ]
          },
          "metadata": {},
          "execution_count": 60
        }
      ]
    },
    {
      "cell_type": "code",
      "source": [
        "resultados['MAE']"
      ],
      "metadata": {
        "colab": {
          "base_uri": "https://localhost:8080/"
        },
        "outputId": "5ac687d7-be73-4602-dd4c-eb90cd0c5932",
        "id": "QcJs1N4AQPMu"
      },
      "execution_count": null,
      "outputs": [
        {
          "output_type": "execute_result",
          "data": {
            "text/plain": [
              "[('RandomForestRegressor()', 1.1071542413756945),\n",
              " ('GradientBoostingRegressor()', 1.087843460670053),\n",
              " ('AdaBoostRegressor()', 1.287340875250823),\n",
              " ('LinearRegression()', 1.1235234484122543)]"
            ]
          },
          "metadata": {},
          "execution_count": 61
        }
      ]
    },
    {
      "cell_type": "code",
      "source": [
        "resultados['MSE']"
      ],
      "metadata": {
        "colab": {
          "base_uri": "https://localhost:8080/"
        },
        "outputId": "bdeaeccd-61bc-49bf-ff80-a3c93874a634",
        "id": "fUyWz3WdQPMv"
      },
      "execution_count": null,
      "outputs": [
        {
          "output_type": "execute_result",
          "data": {
            "text/plain": [
              "[('RandomForestRegressor()', 1.6780127398553002),\n",
              " ('GradientBoostingRegressor()', 1.6257681984739476),\n",
              " ('AdaBoostRegressor()', 2.032770656531925),\n",
              " ('LinearRegression()', 1.6796700478758761)]"
            ]
          },
          "metadata": {},
          "execution_count": 62
        }
      ]
    }
  ]
}