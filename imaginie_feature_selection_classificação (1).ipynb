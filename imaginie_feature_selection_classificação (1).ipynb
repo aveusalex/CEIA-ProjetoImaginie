{
  "cells": [
    {
      "cell_type": "code",
      "execution_count": null,
      "metadata": {
        "id": "I3gWYOhGqUxI"
      },
      "outputs": [],
      "source": [
        "import pandas as pd \n",
        "import numpy as np\n",
        "import seaborn as sns\n",
        "import matplotlib.pyplot as plt\n",
        "from sklearn.ensemble import GradientBoostingClassifier\n",
        "from sklearn.metrics import accuracy_score\n",
        "import datetime"
      ]
    },
    {
      "cell_type": "code",
      "execution_count": null,
      "metadata": {
        "id": "y6C9IEIgnDWC"
      },
      "outputs": [],
      "source": [
        "df = pd.read_csv('dataset_finalv3.csv').dropna(subset=['feedback_rating'])\n",
        "df = df.query('feedback_rating > 0')\n",
        "df.reset_index(inplace=True)\n",
        "df.drop(columns='index',inplace=True)"
      ]
    },
    {
      "cell_type": "code",
      "execution_count": null,
      "metadata": {
        "id": "AveUrJFPt54b"
      },
      "outputs": [],
      "source": [
        "pd.set_option('display.max_columns', 999)"
      ]
    },
    {
      "cell_type": "code",
      "execution_count": null,
      "metadata": {
        "id": "ILKQFzNynGV-"
      },
      "outputs": [],
      "source": [
        "#transformando a coluna da data de correção em date time\n",
        "df.start = pd.to_datetime(df.start)\n"
      ]
    },
    {
      "cell_type": "code",
      "execution_count": null,
      "metadata": {
        "id": "5Mxrn_z3nduW"
      },
      "outputs": [],
      "source": [
        "#criando uma coluna que diz o ano da correção\n",
        "df['year'] = [df.loc[i].start.year for i in range(len(df))]\n"
      ]
    },
    {
      "cell_type": "code",
      "execution_count": null,
      "metadata": {
        "colab": {
          "base_uri": "https://localhost:8080/"
        },
        "id": "xUmFFofAn3Em",
        "outputId": "b411faf5-3c86-45c0-fda2-fdc456c66850"
      },
      "outputs": [
        {
          "name": "stderr",
          "output_type": "stream",
          "text": [
            "C:\\Users\\luizf\\AppData\\Local\\Temp\\ipykernel_11820\\1715257305.py:4: SettingWithCopyWarning: \n",
            "A value is trying to be set on a copy of a slice from a DataFrame\n",
            "\n",
            "See the caveats in the documentation: https://pandas.pydata.org/pandas-docs/stable/user_guide/indexing.html#returning-a-view-versus-a-copy\n",
            "  df2020.drop(columns='index',inplace=True)\n"
          ]
        }
      ],
      "source": [
        "#criando outro dataframe com dados apenas de 2020 pra cima\n",
        "df2020 = df.query('year >= 2020')\n",
        "df2020.reset_index(inplace=True)\n",
        "df2020.drop(columns='index',inplace=True)"
      ]
    },
    {
      "cell_type": "code",
      "execution_count": null,
      "metadata": {
        "colab": {
          "base_uri": "https://localhost:8080/"
        },
        "id": "T9ScpiZHpaFp",
        "outputId": "371820ee-3d8d-4a21-cb8a-1e68cfb8d861"
      },
      "outputs": [
        {
          "name": "stderr",
          "output_type": "stream",
          "text": [
            "C:\\Users\\luizf\\AppData\\Local\\Temp\\ipykernel_11820\\3482070822.py:1: SettingWithCopyWarning: \n",
            "A value is trying to be set on a copy of a slice from a DataFrame\n",
            "\n",
            "See the caveats in the documentation: https://pandas.pydata.org/pandas-docs/stable/user_guide/indexing.html#returning-a-view-versus-a-copy\n",
            "  df2020.dropna(inplace=True)\n",
            "C:\\Users\\luizf\\AppData\\Local\\Temp\\ipykernel_11820\\3482070822.py:3: SettingWithCopyWarning: \n",
            "A value is trying to be set on a copy of a slice from a DataFrame\n",
            "\n",
            "See the caveats in the documentation: https://pandas.pydata.org/pandas-docs/stable/user_guide/indexing.html#returning-a-view-versus-a-copy\n",
            "  df2020.drop(columns=['index'],inplace=True)\n"
          ]
        }
      ],
      "source": [
        "df2020.dropna(inplace=True)\n",
        "df2020.reset_index(inplace=True)\n",
        "df2020.drop(columns=['index'],inplace=True)"
      ]
    },
    {
      "cell_type": "code",
      "execution_count": null,
      "metadata": {
        "colab": {
          "base_uri": "https://localhost:8080/"
        },
        "id": "MB4jWi4in6od",
        "outputId": "3d768c12-f83d-42b4-8d24-f90c70164bb4"
      },
      "outputs": [
        {
          "name": "stderr",
          "output_type": "stream",
          "text": [
            "C:\\Users\\luizf\\AppData\\Local\\Temp\\ipykernel_11820\\2878062067.py:2: SettingWithCopyWarning: \n",
            "A value is trying to be set on a copy of a slice from a DataFrame.\n",
            "Try using .loc[row_indexer,col_indexer] = value instead\n",
            "\n",
            "See the caveats in the documentation: https://pandas.pydata.org/pandas-docs/stable/user_guide/indexing.html#returning-a-view-versus-a-copy\n",
            "  df2020.feedback_rating = np.where(df2020.feedback_rating > 3, 'satisfeito', 'insatisfeito')\n"
          ]
        }
      ],
      "source": [
        "#transformando a variável alvo para classificação\n",
        "df2020.feedback_rating = np.where(df2020.feedback_rating > 3, 'satisfeito', 'insatisfeito')"
      ]
    },
    {
      "cell_type": "code",
      "execution_count": null,
      "metadata": {
        "id": "cceqIbnofPrY",
        "outputId": "712c5ed1-b4e2-4dad-f66c-e1642ebbfb56"
      },
      "outputs": [
        {
          "name": "stderr",
          "output_type": "stream",
          "text": [
            "C:\\Users\\luizf\\AppData\\Local\\Temp\\ipykernel_11820\\1324156261.py:1: SettingWithCopyWarning: \n",
            "A value is trying to be set on a copy of a slice from a DataFrame.\n",
            "Try using .loc[row_indexer,col_indexer] = value instead\n",
            "\n",
            "See the caveats in the documentation: https://pandas.pydata.org/pandas-docs/stable/user_guide/indexing.html#returning-a-view-versus-a-copy\n",
            "  df2020.feedback_rating = df2020.feedback_rating.map({'insatisfeito':1,'satisfeito':0})\n"
          ]
        }
      ],
      "source": [
        "df2020.feedback_rating = df2020.feedback_rating.map({'insatisfeito':1,'satisfeito':0})"
      ]
    },
    {
      "cell_type": "code",
      "execution_count": null,
      "metadata": {
        "id": "414KcGyOqo9r",
        "outputId": "488bdd30-cb20-4f2e-df21-562a97f45004"
      },
      "outputs": [
        {
          "name": "stdout",
          "output_type": "stream",
          "text": [
            "Requirement already satisfied: category_encoders in c:\\users\\luizf\\anaconda3\\envs\\novo\\lib\\site-packages (2.4.0)\n",
            "Requirement already satisfied: statsmodels>=0.9.0 in c:\\users\\luizf\\anaconda3\\envs\\novo\\lib\\site-packages (from category_encoders) (0.13.2)\n",
            "Requirement already satisfied: patsy>=0.5.1 in c:\\users\\luizf\\anaconda3\\envs\\novo\\lib\\site-packages (from category_encoders) (0.5.2)\n",
            "Requirement already satisfied: scipy>=1.0.0 in c:\\users\\luizf\\anaconda3\\envs\\novo\\lib\\site-packages (from category_encoders) (1.5.4)\n",
            "Requirement already satisfied: pandas>=0.21.1 in c:\\users\\luizf\\anaconda3\\envs\\novo\\lib\\site-packages (from category_encoders) (1.4.2)\n",
            "Requirement already satisfied: scikit-learn>=0.20.0 in c:\\users\\luizf\\anaconda3\\envs\\novo\\lib\\site-packages (from category_encoders) (0.24.2)\n",
            "Requirement already satisfied: numpy>=1.14.0 in c:\\users\\luizf\\anaconda3\\envs\\novo\\lib\\site-packages (from category_encoders) (1.19.5)\n",
            "Requirement already satisfied: python-dateutil>=2.8.1 in c:\\users\\luizf\\anaconda3\\envs\\novo\\lib\\site-packages (from pandas>=0.21.1->category_encoders) (2.8.2)\n",
            "Requirement already satisfied: pytz>=2020.1 in c:\\users\\luizf\\anaconda3\\envs\\novo\\lib\\site-packages (from pandas>=0.21.1->category_encoders) (2022.1)\n",
            "Requirement already satisfied: six in c:\\users\\luizf\\anaconda3\\envs\\novo\\lib\\site-packages (from patsy>=0.5.1->category_encoders) (1.16.0)\n",
            "Requirement already satisfied: joblib>=0.11 in c:\\users\\luizf\\anaconda3\\envs\\novo\\lib\\site-packages (from scikit-learn>=0.20.0->category_encoders) (1.0.1)\n",
            "Requirement already satisfied: threadpoolctl>=2.0.0 in c:\\users\\luizf\\anaconda3\\envs\\novo\\lib\\site-packages (from scikit-learn>=0.20.0->category_encoders) (3.1.0)\n",
            "Requirement already satisfied: packaging>=21.3 in c:\\users\\luizf\\anaconda3\\envs\\novo\\lib\\site-packages (from statsmodels>=0.9.0->category_encoders) (21.3)\n",
            "Requirement already satisfied: pyparsing!=3.0.5,>=2.0.2 in c:\\users\\luizf\\anaconda3\\envs\\novo\\lib\\site-packages (from packaging>=21.3->statsmodels>=0.9.0->category_encoders) (3.0.4)\n"
          ]
        }
      ],
      "source": [
        "#instalando a biblioteca que fornece os encoders\n",
        "!pip install category_encoders "
      ]
    },
    {
      "cell_type": "code",
      "execution_count": null,
      "metadata": {
        "id": "kB5OR1C6qtHP"
      },
      "outputs": [],
      "source": [
        "train = df2020[(df2020.start < datetime.datetime(2021,11,1))].drop(columns=['start','year','oficial_feedback_revis'])\n",
        "test = df2020[~(df2020.start < datetime.datetime(2021,11,1))].drop(columns=['start','year','oficial_feedback_revis'])"
      ]
    },
    {
      "cell_type": "code",
      "execution_count": null,
      "metadata": {
        "id": "Z_10COJgquVB"
      },
      "outputs": [],
      "source": [
        "#aplicando o encoder nas colunas categóricas\n",
        "\n",
        "import category_encoders as ce \n",
        "# parâmetro cols identifica as colunas categóricas\n",
        "js_treino = ce.JamesSteinEncoder(cols=['tipo_cliente','formato_redacao', 'dia_semana',\n",
        "                                       'mes_ano','dia_mes','theme_id_essay',\n",
        "                                       ], model='beta')\n",
        "\n",
        "\n",
        "\n",
        "treino = js_treino.fit_transform(train.drop(columns='feedback_rating'), train.feedback_rating)\n",
        "\n",
        "teste = js_treino.transform(test.drop(columns='feedback_rating'))\n",
        "\n",
        "\n",
        "treino = pd.concat([treino,train.feedback_rating],axis=1)\n",
        "\n",
        "teste = pd.concat([teste,test.feedback_rating],axis=1)"
      ]
    },
    {
      "cell_type": "code",
      "execution_count": null,
      "metadata": {
        "id": "NT9BQdy9qwUU"
      },
      "outputs": [],
      "source": [
        "X_train2 = treino.drop(columns='feedback_rating')\n",
        "y_train2 = treino.feedback_rating\n",
        "\n",
        "X_test2020s = teste.drop(columns='feedback_rating')\n",
        "y_test2020s = teste.feedback_rating"
      ]
    },
    {
      "cell_type": "code",
      "execution_count": null,
      "metadata": {
        "id": "jTEZ1LSOqx84"
      },
      "outputs": [],
      "source": [
        "from imblearn.over_sampling import SMOTE\n",
        "\n",
        "sm = SMOTE(random_state = 7)\n",
        "\n",
        "X_nof2020sm, y_nof2020sm = sm.fit_resample(X_train2, y_train2)"
      ]
    },
    {
      "cell_type": "code",
      "execution_count": null,
      "metadata": {
        "id": "KB7U7yvhq1tp"
      },
      "outputs": [],
      "source": [
        "gb = GradientBoostingClassifier(random_state=7)"
      ]
    },
    {
      "cell_type": "code",
      "execution_count": null,
      "metadata": {
        "id": "G-dNcUqKq5NA",
        "outputId": "d6fa6bcb-08b6-4b8d-d226-78820d83c141"
      },
      "outputs": [
        {
          "name": "stdout",
          "output_type": "stream",
          "text": [
            "46 feature(s)\n",
            "45 feature(s)\n",
            "44 feature(s)\n",
            "43 feature(s)\n",
            "42 feature(s)\n",
            "41 feature(s)\n",
            "40 feature(s)\n",
            "39 feature(s)\n",
            "38 feature(s)\n",
            "37 feature(s)\n",
            "36 feature(s)\n",
            "35 feature(s)\n",
            "34 feature(s)\n",
            "33 feature(s)\n",
            "32 feature(s)\n",
            "31 feature(s)\n",
            "30 feature(s)\n",
            "29 feature(s)\n",
            "28 feature(s)\n",
            "27 feature(s)\n",
            "26 feature(s)\n",
            "25 feature(s)\n",
            "24 feature(s)\n",
            "23 feature(s)\n",
            "22 feature(s)\n",
            "21 feature(s)\n",
            "20 feature(s)\n",
            "19 feature(s)\n",
            "18 feature(s)\n",
            "17 feature(s)\n",
            "16 feature(s)\n",
            "15 feature(s)\n",
            "14 feature(s)\n",
            "13 feature(s)\n",
            "12 feature(s)\n",
            "11 feature(s)\n",
            "10 feature(s)\n",
            "9 feature(s)\n",
            "8 feature(s)\n",
            "7 feature(s)\n",
            "6 feature(s)\n",
            "5 feature(s)\n",
            "4 feature(s)\n",
            "3 feature(s)\n",
            "2 feature(s)\n"
          ]
        }
      ],
      "source": [
        "from sklearn.feature_selection import RFE\n",
        "results = {}\n",
        "for i in range(len(X_nof2020sm.columns),1,-1):\n",
        "  print(f'{i} feature(s)')\n",
        "  selector = RFE(gb,n_features_to_select=i)\n",
        "  selector = selector.fit(X_nof2020sm, y_nof2020sm)\n",
        "  ypred_gb = selector.predict(X_test2020s)\n",
        "  results[i] = accuracy_score(y_test2020s,ypred_gb)"
      ]
    },
    {
      "cell_type": "code",
      "execution_count": null,
      "metadata": {
        "id": "YD0zvpNDfPrq",
        "outputId": "42e7fbd6-7e11-49b1-e406-9181bcfa967b"
      },
      "outputs": [
        {
          "data": {
            "text/plain": [
              "{46: 0.8063291139240506,\n",
              " 45: 0.8063291139240506,\n",
              " 44: 0.8063291139240506,\n",
              " 43: 0.8063291139240506,\n",
              " 42: 0.8063291139240506,\n",
              " 41: 0.8063291139240506,\n",
              " 40: 0.8063291139240506,\n",
              " 39: 0.805379746835443,\n",
              " 38: 0.8066455696202531,\n",
              " 37: 0.8056962025316455,\n",
              " 36: 0.8060126582278481,\n",
              " 35: 0.8047468354430379,\n",
              " 34: 0.8037974683544303,\n",
              " 33: 0.8037974683544303,\n",
              " 32: 0.8047468354430379,\n",
              " 31: 0.8031645569620253,\n",
              " 30: 0.8044303797468354,\n",
              " 29: 0.8034810126582278,\n",
              " 28: 0.8034810126582278,\n",
              " 27: 0.8034810126582278,\n",
              " 26: 0.8037974683544303,\n",
              " 25: 0.805379746835443,\n",
              " 24: 0.8041139240506329,\n",
              " 23: 0.8044303797468354,\n",
              " 22: 0.8044303797468354,\n",
              " 21: 0.8006329113924051,\n",
              " 20: 0.8015822784810127,\n",
              " 19: 0.8025316455696202,\n",
              " 18: 0.7996835443037975,\n",
              " 17: 0.8,\n",
              " 16: 0.7981012658227848,\n",
              " 15: 0.7981012658227848,\n",
              " 14: 0.7955696202531646,\n",
              " 13: 0.7939873417721519,\n",
              " 12: 0.7920886075949367,\n",
              " 11: 0.7917721518987342,\n",
              " 10: 0.7870253164556962,\n",
              " 9: 0.790506329113924,\n",
              " 8: 0.7914556962025316,\n",
              " 7: 0.785759493670886,\n",
              " 6: 0.7800632911392406,\n",
              " 5: 0.7772151898734178,\n",
              " 4: 0.7731012658227848,\n",
              " 3: 0.7677215189873418,\n",
              " 2: 0.754746835443038}"
            ]
          },
          "execution_count": 38,
          "metadata": {},
          "output_type": "execute_result"
        }
      ],
      "source": [
        "results"
      ]
    },
    {
      "cell_type": "code",
      "execution_count": null,
      "metadata": {
        "id": "auVATLnzfPrr",
        "outputId": "0ee8053e-9a1c-440e-a731-a4fad1ad13db"
      },
      "outputs": [
        {
          "name": "stdout",
          "output_type": "stream",
          "text": [
            "Fitting estimator with 46 features.\n",
            "Fitting estimator with 45 features.\n",
            "Fitting estimator with 44 features.\n",
            "Fitting estimator with 43 features.\n",
            "Fitting estimator with 42 features.\n",
            "Fitting estimator with 41 features.\n",
            "Fitting estimator with 40 features.\n",
            "Fitting estimator with 39 features.\n"
          ]
        }
      ],
      "source": [
        "selector2 = RFE(gb,n_features_to_select=38,verbose = 1)\n",
        "selector2 = selector2.fit(X_nof2020sm, y_nof2020sm)"
      ]
    },
    {
      "cell_type": "code",
      "execution_count": null,
      "metadata": {
        "id": "D4H8s9pQfPrt",
        "outputId": "6e465e5d-e414-4c17-b75c-266f0af90944"
      },
      "outputs": [
        {
          "name": "stdout",
          "output_type": "stream",
          "text": [
            "tipo_cliente:True\n",
            "tamanho_comentario_geral:True\n",
            "correction_time:True\n",
            "proporcao_positiva:True\n",
            "qtd_comentarios_especificos:True\n",
            "proporcao_negativa:True\n",
            "qtd_comentarios_positivos:True\n",
            "qtd_comentarios_negativos:True\n",
            "tamanho_medio_comentarios_especificos:True\n",
            "tempo_vinculo_corretor:True\n",
            "qtd_correcoes_anteriores:True\n",
            "tempo_espera:True\n",
            "mes_ano:True\n",
            "dia_mes:True\n",
            "tempo_vinculo_aluno:True\n",
            "theme_id_essay:True\n",
            "competencia1:True\n",
            "competencia2:True\n",
            "competencia3:True\n",
            "nota_final:True\n",
            "media_temporal_aluno:True\n",
            "media_temporal_corretor:True\n",
            "std_temporal_aluno:True\n",
            "std_temporal_corretor:True\n",
            "mediana_temporal_aluno:True\n",
            "mediana_temporal_corretor:True\n",
            "score_medio_temporal_aluno:True\n",
            "score_medio_temporal_corretor:True\n",
            "score_std_temporal_aluno:True\n",
            "qtd_feedbacks_aluno:True\n",
            "feedbacks_positivos_aluno:True\n",
            "feedbacks_negativos_aluno:True\n",
            "proporcao_feedback_positivo_aluno:True\n",
            "proporcao_feedback_negativo_aluno:True\n",
            "qtd_feedbacks_corretor:True\n",
            "feedbacks_positivos_corretor:True\n",
            "proporcao_feedback_positivo_corretor:True\n",
            "proporcao_feedback_negativo_corretor:True\n"
          ]
        }
      ],
      "source": [
        "colunas = []\n",
        "for i in range(len(X_nof2020sm.columns)):\n",
        "  if selector2.support_[i] == True:\n",
        "    print(f'{X_nof2020sm.columns[i]}:{selector2.support_[i]}')\n",
        "    colunas.append(X_nof2020sm.columns[i])"
      ]
    },
    {
      "cell_type": "code",
      "execution_count": null,
      "metadata": {
        "id": "eyJIHHasfPrv",
        "outputId": "f0a5b23a-0610-48a0-f415-eca3cc9673a2"
      },
      "outputs": [
        {
          "data": {
            "text/plain": [
              "['tipo_cliente',\n",
              " 'tamanho_comentario_geral',\n",
              " 'correction_time',\n",
              " 'proporcao_positiva',\n",
              " 'qtd_comentarios_especificos',\n",
              " 'proporcao_negativa',\n",
              " 'qtd_comentarios_positivos',\n",
              " 'qtd_comentarios_negativos',\n",
              " 'tamanho_medio_comentarios_especificos',\n",
              " 'tempo_vinculo_corretor',\n",
              " 'qtd_correcoes_anteriores',\n",
              " 'tempo_espera',\n",
              " 'mes_ano',\n",
              " 'dia_mes',\n",
              " 'tempo_vinculo_aluno',\n",
              " 'theme_id_essay',\n",
              " 'competencia1',\n",
              " 'competencia2',\n",
              " 'competencia3',\n",
              " 'nota_final',\n",
              " 'media_temporal_aluno',\n",
              " 'media_temporal_corretor',\n",
              " 'std_temporal_aluno',\n",
              " 'std_temporal_corretor',\n",
              " 'mediana_temporal_aluno',\n",
              " 'mediana_temporal_corretor',\n",
              " 'score_medio_temporal_aluno',\n",
              " 'score_medio_temporal_corretor',\n",
              " 'score_std_temporal_aluno',\n",
              " 'qtd_feedbacks_aluno',\n",
              " 'feedbacks_positivos_aluno',\n",
              " 'feedbacks_negativos_aluno',\n",
              " 'proporcao_feedback_positivo_aluno',\n",
              " 'proporcao_feedback_negativo_aluno',\n",
              " 'qtd_feedbacks_corretor',\n",
              " 'feedbacks_positivos_corretor',\n",
              " 'proporcao_feedback_positivo_corretor',\n",
              " 'proporcao_feedback_negativo_corretor']"
            ]
          },
          "execution_count": 41,
          "metadata": {},
          "output_type": "execute_result"
        }
      ],
      "source": [
        "colunas"
      ]
    }
  ],
  "metadata": {
    "colab": {
      "name": "imaginie_feature_selection_classificação.ipynb",
      "provenance": []
    },
    "kernelspec": {
      "display_name": "Python 3 (ipykernel)",
      "language": "python",
      "name": "python3"
    },
    "language_info": {
      "codemirror_mode": {
        "name": "ipython",
        "version": 3
      },
      "file_extension": ".py",
      "mimetype": "text/x-python",
      "name": "python",
      "nbconvert_exporter": "python",
      "pygments_lexer": "ipython3",
      "version": "3.8.13"
    }
  },
  "nbformat": 4,
  "nbformat_minor": 0
}