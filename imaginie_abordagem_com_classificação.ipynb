{
  "nbformat": 4,
  "nbformat_minor": 0,
  "metadata": {
    "colab": {
      "name": "imaginie - abordagem com classificação ",
      "provenance": [],
      "collapsed_sections": [
        "8dZb86ZZvNVU",
        "7hGgZ-3HlaLK",
        "JcqnvnorlwbU",
        "PUKZL0yHpN95",
        "UK7JA2cPql4T",
        "U_VAEqd1ql4U",
        "WcXI2ef0ql4Z",
        "L8uaQRijrXrv"
      ]
    },
    "kernelspec": {
      "name": "python3",
      "display_name": "Python 3"
    },
    "language_info": {
      "name": "python"
    }
  },
  "cells": [
    {
      "cell_type": "markdown",
      "source": [
        "# Imports"
      ],
      "metadata": {
        "id": "biUzVPNcuzON"
      }
    },
    {
      "cell_type": "code",
      "execution_count": 1,
      "metadata": {
        "id": "MrWFaPS1mPCq"
      },
      "outputs": [],
      "source": [
        "import pandas as pd \n",
        "import numpy as np\n",
        "import seaborn as sns\n",
        "import matplotlib.pyplot as plt\n",
        "from sklearn.ensemble import RandomForestClassifier\n",
        "from sklearn.ensemble import GradientBoostingClassifier\n",
        "from sklearn.metrics import classification_report\n",
        "from sklearn.metrics import plot_confusion_matrix"
      ]
    },
    {
      "cell_type": "markdown",
      "source": [
        "# Preparando apenas dados acima de 2020"
      ],
      "metadata": {
        "id": "IBDXHjvhu3a-"
      }
    },
    {
      "cell_type": "code",
      "source": [
        "df = pd.read_csv('/content/drive/MyDrive/dataset_finalv3.csv').dropna(subset=['feedback_rating'])\n",
        "df = df.query('feedback_rating > 0')\n",
        "df.reset_index(inplace=True)\n",
        "df.drop(columns='index',inplace=True)"
      ],
      "metadata": {
        "id": "y6C9IEIgnDWC",
        "colab": {
          "base_uri": "https://localhost:8080/"
        },
        "outputId": "31b8e538-89c5-4462-f923-7c32fca85101"
      },
      "execution_count": 2,
      "outputs": [
        {
          "output_type": "stream",
          "name": "stderr",
          "text": [
            "/usr/local/lib/python3.7/dist-packages/pandas/core/frame.py:4913: SettingWithCopyWarning: \n",
            "A value is trying to be set on a copy of a slice from a DataFrame\n",
            "\n",
            "See the caveats in the documentation: https://pandas.pydata.org/pandas-docs/stable/user_guide/indexing.html#returning-a-view-versus-a-copy\n",
            "  errors=errors,\n"
          ]
        }
      ]
    },
    {
      "cell_type": "code",
      "source": [
        "pd.set_option('display.max_columns', 999)"
      ],
      "metadata": {
        "id": "AveUrJFPt54b"
      },
      "execution_count": 3,
      "outputs": []
    },
    {
      "cell_type": "code",
      "source": [
        "df.head()"
      ],
      "metadata": {
        "colab": {
          "base_uri": "https://localhost:8080/",
          "height": 444
        },
        "id": "R99hSemBtuhr",
        "outputId": "2fc40c12-22fc-4e57-892d-6193e9f58071"
      },
      "execution_count": 4,
      "outputs": [
        {
          "output_type": "execute_result",
          "data": {
            "text/plain": [
              "  tipo_cliente formato_redacao                start  tamanho_comentario_geral  \\\n",
              "0   Individual          Imagem  2015-04-10 00:51:22                         0   \n",
              "1   Individual          Imagem  2015-04-21 12:40:07                       287   \n",
              "2   Individual          Imagem  2015-04-21 14:28:42                       232   \n",
              "3   Individual          Imagem  2015-04-23 18:26:09                         0   \n",
              "4   Individual          Imagem  2015-05-14 14:35:51                       259   \n",
              "\n",
              "   correction_time  feedback_rating  proporcao_positiva  \\\n",
              "0           2039.0              4.0                 0.0   \n",
              "1           1522.0              1.0                 0.0   \n",
              "2           1207.0              1.0                 0.0   \n",
              "3           2322.0              1.0                 0.0   \n",
              "4            945.0              4.0                 0.0   \n",
              "\n",
              "   qtd_comentarios_especificos  proporcao_negativa  qtd_comentarios_positivos  \\\n",
              "0                           15                 1.0                        0.0   \n",
              "1                           23                 1.0                        0.0   \n",
              "2                           21                 1.0                        0.0   \n",
              "3                           22                 1.0                        0.0   \n",
              "4                           26                 1.0                        0.0   \n",
              "\n",
              "   qtd_comentarios_negativos  tamanho_medio_comentarios_especificos  \\\n",
              "0                       15.0                              35.600000   \n",
              "1                       23.0                              62.086957   \n",
              "2                       21.0                              41.380952   \n",
              "3                       22.0                              93.954545   \n",
              "4                       26.0                              15.730769   \n",
              "\n",
              "   tempo_vinculo_corretor  qtd_correcoes_anteriores  qtd_correcoes_dia  \\\n",
              "0                      26                         0                  0   \n",
              "1                      38                         1                  1   \n",
              "2                      38                         0                  5   \n",
              "3                      40                         0                  3   \n",
              "4                      10                         0                  2   \n",
              "\n",
              "   tempo_espera  dia_semana  mes_ano  dia_mes  tempo_vinculo_aluno  \\\n",
              "0       46085.0           4        4       10                    0   \n",
              "1         943.0           1        4       21                    0   \n",
              "2        1457.0           1        4       21                    0   \n",
              "3        3948.0           3        4       23                    0   \n",
              "4         928.0           3        5       14                    0   \n",
              "\n",
              "   theme_id_essay  oficial_feedback_revis  competencia1  competencia2  \\\n",
              "0             338                     1.0         120.0         200.0   \n",
              "1             356                     1.0          80.0          80.0   \n",
              "2             326                     1.0          80.0          80.0   \n",
              "3             356                     1.0         120.0         120.0   \n",
              "4             318                     1.0          80.0         160.0   \n",
              "\n",
              "   competencia3  competencia4  competencia5  nota_final  media_temporal_aluno  \\\n",
              "0         160.0         160.0          40.0       680.0                   NaN   \n",
              "1          80.0          80.0           0.0       320.0                   NaN   \n",
              "2          40.0          80.0          80.0       360.0                   NaN   \n",
              "3          40.0         120.0          80.0       480.0                   NaN   \n",
              "4         160.0         160.0          80.0       640.0                   NaN   \n",
              "\n",
              "   media_temporal_corretor  std_temporal_aluno  std_temporal_corretor  \\\n",
              "0                      NaN                 NaN                    NaN   \n",
              "1                     4.00                 NaN               0.000000   \n",
              "2                     2.50                 NaN               1.500000   \n",
              "3                     1.75                 NaN               1.414214   \n",
              "4                      NaN                 NaN                    NaN   \n",
              "\n",
              "   mediana_temporal_aluno  mediana_temporal_corretor  \\\n",
              "0                     NaN                        NaN   \n",
              "1                     NaN                        4.0   \n",
              "2                     NaN                        2.5   \n",
              "3                     NaN                        1.0   \n",
              "4                     NaN                        NaN   \n",
              "\n",
              "   score_medio_temporal_aluno  score_medio_temporal_corretor  \\\n",
              "0                         NaN                     530.366607   \n",
              "1                       480.0                     657.823956   \n",
              "2                         NaN                     701.113997   \n",
              "3                         NaN                     594.079906   \n",
              "4                         NaN                     727.667162   \n",
              "\n",
              "   score_std_temporal_aluno  diff_score_media_corretor  \\\n",
              "0                       NaN                 149.633393   \n",
              "1                       0.0                -337.823956   \n",
              "2                       NaN                -341.113997   \n",
              "3                       NaN                -114.079906   \n",
              "4                       NaN                 -87.667162   \n",
              "\n",
              "   diff_score_media_aluno  qtd_feedbacks_aluno  feedbacks_positivos_aluno  \\\n",
              "0                     NaN                    0                          0   \n",
              "1                   160.0                    0                          0   \n",
              "2                     NaN                    0                          0   \n",
              "3                     NaN                    0                          0   \n",
              "4                     NaN                    0                          0   \n",
              "\n",
              "   feedbacks_negativos_aluno  proporcao_feedback_positivo_aluno  \\\n",
              "0                          0                                NaN   \n",
              "1                          0                                0.0   \n",
              "2                          0                                NaN   \n",
              "3                          0                                NaN   \n",
              "4                          0                                NaN   \n",
              "\n",
              "   proporcao_feedback_negativo_aluno  qtd_feedbacks_corretor  \\\n",
              "0                                NaN                       0   \n",
              "1                                0.0                       1   \n",
              "2                                NaN                       2   \n",
              "3                                NaN                       3   \n",
              "4                                NaN                       0   \n",
              "\n",
              "   feedbacks_positivos_corretor  feedbacks_negativos_corretor  \\\n",
              "0                             0                             0   \n",
              "1                             1                             0   \n",
              "2                             1                             1   \n",
              "3                             1                             2   \n",
              "4                             0                             0   \n",
              "\n",
              "   proporcao_feedback_positivo_corretor  proporcao_feedback_negativo_corretor  \n",
              "0                              0.000000                              0.000000  \n",
              "1                              1.000000                              0.000000  \n",
              "2                              0.500000                              0.500000  \n",
              "3                              0.333333                              0.666667  \n",
              "4                              0.000000                              0.000000  "
            ],
            "text/html": [
              "\n",
              "  <div id=\"df-3e249005-4bce-4286-9390-620038992d49\">\n",
              "    <div class=\"colab-df-container\">\n",
              "      <div>\n",
              "<style scoped>\n",
              "    .dataframe tbody tr th:only-of-type {\n",
              "        vertical-align: middle;\n",
              "    }\n",
              "\n",
              "    .dataframe tbody tr th {\n",
              "        vertical-align: top;\n",
              "    }\n",
              "\n",
              "    .dataframe thead th {\n",
              "        text-align: right;\n",
              "    }\n",
              "</style>\n",
              "<table border=\"1\" class=\"dataframe\">\n",
              "  <thead>\n",
              "    <tr style=\"text-align: right;\">\n",
              "      <th></th>\n",
              "      <th>tipo_cliente</th>\n",
              "      <th>formato_redacao</th>\n",
              "      <th>start</th>\n",
              "      <th>tamanho_comentario_geral</th>\n",
              "      <th>correction_time</th>\n",
              "      <th>feedback_rating</th>\n",
              "      <th>proporcao_positiva</th>\n",
              "      <th>qtd_comentarios_especificos</th>\n",
              "      <th>proporcao_negativa</th>\n",
              "      <th>qtd_comentarios_positivos</th>\n",
              "      <th>qtd_comentarios_negativos</th>\n",
              "      <th>tamanho_medio_comentarios_especificos</th>\n",
              "      <th>tempo_vinculo_corretor</th>\n",
              "      <th>qtd_correcoes_anteriores</th>\n",
              "      <th>qtd_correcoes_dia</th>\n",
              "      <th>tempo_espera</th>\n",
              "      <th>dia_semana</th>\n",
              "      <th>mes_ano</th>\n",
              "      <th>dia_mes</th>\n",
              "      <th>tempo_vinculo_aluno</th>\n",
              "      <th>theme_id_essay</th>\n",
              "      <th>oficial_feedback_revis</th>\n",
              "      <th>competencia1</th>\n",
              "      <th>competencia2</th>\n",
              "      <th>competencia3</th>\n",
              "      <th>competencia4</th>\n",
              "      <th>competencia5</th>\n",
              "      <th>nota_final</th>\n",
              "      <th>media_temporal_aluno</th>\n",
              "      <th>media_temporal_corretor</th>\n",
              "      <th>std_temporal_aluno</th>\n",
              "      <th>std_temporal_corretor</th>\n",
              "      <th>mediana_temporal_aluno</th>\n",
              "      <th>mediana_temporal_corretor</th>\n",
              "      <th>score_medio_temporal_aluno</th>\n",
              "      <th>score_medio_temporal_corretor</th>\n",
              "      <th>score_std_temporal_aluno</th>\n",
              "      <th>diff_score_media_corretor</th>\n",
              "      <th>diff_score_media_aluno</th>\n",
              "      <th>qtd_feedbacks_aluno</th>\n",
              "      <th>feedbacks_positivos_aluno</th>\n",
              "      <th>feedbacks_negativos_aluno</th>\n",
              "      <th>proporcao_feedback_positivo_aluno</th>\n",
              "      <th>proporcao_feedback_negativo_aluno</th>\n",
              "      <th>qtd_feedbacks_corretor</th>\n",
              "      <th>feedbacks_positivos_corretor</th>\n",
              "      <th>feedbacks_negativos_corretor</th>\n",
              "      <th>proporcao_feedback_positivo_corretor</th>\n",
              "      <th>proporcao_feedback_negativo_corretor</th>\n",
              "    </tr>\n",
              "  </thead>\n",
              "  <tbody>\n",
              "    <tr>\n",
              "      <th>0</th>\n",
              "      <td>Individual</td>\n",
              "      <td>Imagem</td>\n",
              "      <td>2015-04-10 00:51:22</td>\n",
              "      <td>0</td>\n",
              "      <td>2039.0</td>\n",
              "      <td>4.0</td>\n",
              "      <td>0.0</td>\n",
              "      <td>15</td>\n",
              "      <td>1.0</td>\n",
              "      <td>0.0</td>\n",
              "      <td>15.0</td>\n",
              "      <td>35.600000</td>\n",
              "      <td>26</td>\n",
              "      <td>0</td>\n",
              "      <td>0</td>\n",
              "      <td>46085.0</td>\n",
              "      <td>4</td>\n",
              "      <td>4</td>\n",
              "      <td>10</td>\n",
              "      <td>0</td>\n",
              "      <td>338</td>\n",
              "      <td>1.0</td>\n",
              "      <td>120.0</td>\n",
              "      <td>200.0</td>\n",
              "      <td>160.0</td>\n",
              "      <td>160.0</td>\n",
              "      <td>40.0</td>\n",
              "      <td>680.0</td>\n",
              "      <td>NaN</td>\n",
              "      <td>NaN</td>\n",
              "      <td>NaN</td>\n",
              "      <td>NaN</td>\n",
              "      <td>NaN</td>\n",
              "      <td>NaN</td>\n",
              "      <td>NaN</td>\n",
              "      <td>530.366607</td>\n",
              "      <td>NaN</td>\n",
              "      <td>149.633393</td>\n",
              "      <td>NaN</td>\n",
              "      <td>0</td>\n",
              "      <td>0</td>\n",
              "      <td>0</td>\n",
              "      <td>NaN</td>\n",
              "      <td>NaN</td>\n",
              "      <td>0</td>\n",
              "      <td>0</td>\n",
              "      <td>0</td>\n",
              "      <td>0.000000</td>\n",
              "      <td>0.000000</td>\n",
              "    </tr>\n",
              "    <tr>\n",
              "      <th>1</th>\n",
              "      <td>Individual</td>\n",
              "      <td>Imagem</td>\n",
              "      <td>2015-04-21 12:40:07</td>\n",
              "      <td>287</td>\n",
              "      <td>1522.0</td>\n",
              "      <td>1.0</td>\n",
              "      <td>0.0</td>\n",
              "      <td>23</td>\n",
              "      <td>1.0</td>\n",
              "      <td>0.0</td>\n",
              "      <td>23.0</td>\n",
              "      <td>62.086957</td>\n",
              "      <td>38</td>\n",
              "      <td>1</td>\n",
              "      <td>1</td>\n",
              "      <td>943.0</td>\n",
              "      <td>1</td>\n",
              "      <td>4</td>\n",
              "      <td>21</td>\n",
              "      <td>0</td>\n",
              "      <td>356</td>\n",
              "      <td>1.0</td>\n",
              "      <td>80.0</td>\n",
              "      <td>80.0</td>\n",
              "      <td>80.0</td>\n",
              "      <td>80.0</td>\n",
              "      <td>0.0</td>\n",
              "      <td>320.0</td>\n",
              "      <td>NaN</td>\n",
              "      <td>4.00</td>\n",
              "      <td>NaN</td>\n",
              "      <td>0.000000</td>\n",
              "      <td>NaN</td>\n",
              "      <td>4.0</td>\n",
              "      <td>480.0</td>\n",
              "      <td>657.823956</td>\n",
              "      <td>0.0</td>\n",
              "      <td>-337.823956</td>\n",
              "      <td>160.0</td>\n",
              "      <td>0</td>\n",
              "      <td>0</td>\n",
              "      <td>0</td>\n",
              "      <td>0.0</td>\n",
              "      <td>0.0</td>\n",
              "      <td>1</td>\n",
              "      <td>1</td>\n",
              "      <td>0</td>\n",
              "      <td>1.000000</td>\n",
              "      <td>0.000000</td>\n",
              "    </tr>\n",
              "    <tr>\n",
              "      <th>2</th>\n",
              "      <td>Individual</td>\n",
              "      <td>Imagem</td>\n",
              "      <td>2015-04-21 14:28:42</td>\n",
              "      <td>232</td>\n",
              "      <td>1207.0</td>\n",
              "      <td>1.0</td>\n",
              "      <td>0.0</td>\n",
              "      <td>21</td>\n",
              "      <td>1.0</td>\n",
              "      <td>0.0</td>\n",
              "      <td>21.0</td>\n",
              "      <td>41.380952</td>\n",
              "      <td>38</td>\n",
              "      <td>0</td>\n",
              "      <td>5</td>\n",
              "      <td>1457.0</td>\n",
              "      <td>1</td>\n",
              "      <td>4</td>\n",
              "      <td>21</td>\n",
              "      <td>0</td>\n",
              "      <td>326</td>\n",
              "      <td>1.0</td>\n",
              "      <td>80.0</td>\n",
              "      <td>80.0</td>\n",
              "      <td>40.0</td>\n",
              "      <td>80.0</td>\n",
              "      <td>80.0</td>\n",
              "      <td>360.0</td>\n",
              "      <td>NaN</td>\n",
              "      <td>2.50</td>\n",
              "      <td>NaN</td>\n",
              "      <td>1.500000</td>\n",
              "      <td>NaN</td>\n",
              "      <td>2.5</td>\n",
              "      <td>NaN</td>\n",
              "      <td>701.113997</td>\n",
              "      <td>NaN</td>\n",
              "      <td>-341.113997</td>\n",
              "      <td>NaN</td>\n",
              "      <td>0</td>\n",
              "      <td>0</td>\n",
              "      <td>0</td>\n",
              "      <td>NaN</td>\n",
              "      <td>NaN</td>\n",
              "      <td>2</td>\n",
              "      <td>1</td>\n",
              "      <td>1</td>\n",
              "      <td>0.500000</td>\n",
              "      <td>0.500000</td>\n",
              "    </tr>\n",
              "    <tr>\n",
              "      <th>3</th>\n",
              "      <td>Individual</td>\n",
              "      <td>Imagem</td>\n",
              "      <td>2015-04-23 18:26:09</td>\n",
              "      <td>0</td>\n",
              "      <td>2322.0</td>\n",
              "      <td>1.0</td>\n",
              "      <td>0.0</td>\n",
              "      <td>22</td>\n",
              "      <td>1.0</td>\n",
              "      <td>0.0</td>\n",
              "      <td>22.0</td>\n",
              "      <td>93.954545</td>\n",
              "      <td>40</td>\n",
              "      <td>0</td>\n",
              "      <td>3</td>\n",
              "      <td>3948.0</td>\n",
              "      <td>3</td>\n",
              "      <td>4</td>\n",
              "      <td>23</td>\n",
              "      <td>0</td>\n",
              "      <td>356</td>\n",
              "      <td>1.0</td>\n",
              "      <td>120.0</td>\n",
              "      <td>120.0</td>\n",
              "      <td>40.0</td>\n",
              "      <td>120.0</td>\n",
              "      <td>80.0</td>\n",
              "      <td>480.0</td>\n",
              "      <td>NaN</td>\n",
              "      <td>1.75</td>\n",
              "      <td>NaN</td>\n",
              "      <td>1.414214</td>\n",
              "      <td>NaN</td>\n",
              "      <td>1.0</td>\n",
              "      <td>NaN</td>\n",
              "      <td>594.079906</td>\n",
              "      <td>NaN</td>\n",
              "      <td>-114.079906</td>\n",
              "      <td>NaN</td>\n",
              "      <td>0</td>\n",
              "      <td>0</td>\n",
              "      <td>0</td>\n",
              "      <td>NaN</td>\n",
              "      <td>NaN</td>\n",
              "      <td>3</td>\n",
              "      <td>1</td>\n",
              "      <td>2</td>\n",
              "      <td>0.333333</td>\n",
              "      <td>0.666667</td>\n",
              "    </tr>\n",
              "    <tr>\n",
              "      <th>4</th>\n",
              "      <td>Individual</td>\n",
              "      <td>Imagem</td>\n",
              "      <td>2015-05-14 14:35:51</td>\n",
              "      <td>259</td>\n",
              "      <td>945.0</td>\n",
              "      <td>4.0</td>\n",
              "      <td>0.0</td>\n",
              "      <td>26</td>\n",
              "      <td>1.0</td>\n",
              "      <td>0.0</td>\n",
              "      <td>26.0</td>\n",
              "      <td>15.730769</td>\n",
              "      <td>10</td>\n",
              "      <td>0</td>\n",
              "      <td>2</td>\n",
              "      <td>928.0</td>\n",
              "      <td>3</td>\n",
              "      <td>5</td>\n",
              "      <td>14</td>\n",
              "      <td>0</td>\n",
              "      <td>318</td>\n",
              "      <td>1.0</td>\n",
              "      <td>80.0</td>\n",
              "      <td>160.0</td>\n",
              "      <td>160.0</td>\n",
              "      <td>160.0</td>\n",
              "      <td>80.0</td>\n",
              "      <td>640.0</td>\n",
              "      <td>NaN</td>\n",
              "      <td>NaN</td>\n",
              "      <td>NaN</td>\n",
              "      <td>NaN</td>\n",
              "      <td>NaN</td>\n",
              "      <td>NaN</td>\n",
              "      <td>NaN</td>\n",
              "      <td>727.667162</td>\n",
              "      <td>NaN</td>\n",
              "      <td>-87.667162</td>\n",
              "      <td>NaN</td>\n",
              "      <td>0</td>\n",
              "      <td>0</td>\n",
              "      <td>0</td>\n",
              "      <td>NaN</td>\n",
              "      <td>NaN</td>\n",
              "      <td>0</td>\n",
              "      <td>0</td>\n",
              "      <td>0</td>\n",
              "      <td>0.000000</td>\n",
              "      <td>0.000000</td>\n",
              "    </tr>\n",
              "  </tbody>\n",
              "</table>\n",
              "</div>\n",
              "      <button class=\"colab-df-convert\" onclick=\"convertToInteractive('df-3e249005-4bce-4286-9390-620038992d49')\"\n",
              "              title=\"Convert this dataframe to an interactive table.\"\n",
              "              style=\"display:none;\">\n",
              "        \n",
              "  <svg xmlns=\"http://www.w3.org/2000/svg\" height=\"24px\"viewBox=\"0 0 24 24\"\n",
              "       width=\"24px\">\n",
              "    <path d=\"M0 0h24v24H0V0z\" fill=\"none\"/>\n",
              "    <path d=\"M18.56 5.44l.94 2.06.94-2.06 2.06-.94-2.06-.94-.94-2.06-.94 2.06-2.06.94zm-11 1L8.5 8.5l.94-2.06 2.06-.94-2.06-.94L8.5 2.5l-.94 2.06-2.06.94zm10 10l.94 2.06.94-2.06 2.06-.94-2.06-.94-.94-2.06-.94 2.06-2.06.94z\"/><path d=\"M17.41 7.96l-1.37-1.37c-.4-.4-.92-.59-1.43-.59-.52 0-1.04.2-1.43.59L10.3 9.45l-7.72 7.72c-.78.78-.78 2.05 0 2.83L4 21.41c.39.39.9.59 1.41.59.51 0 1.02-.2 1.41-.59l7.78-7.78 2.81-2.81c.8-.78.8-2.07 0-2.86zM5.41 20L4 18.59l7.72-7.72 1.47 1.35L5.41 20z\"/>\n",
              "  </svg>\n",
              "      </button>\n",
              "      \n",
              "  <style>\n",
              "    .colab-df-container {\n",
              "      display:flex;\n",
              "      flex-wrap:wrap;\n",
              "      gap: 12px;\n",
              "    }\n",
              "\n",
              "    .colab-df-convert {\n",
              "      background-color: #E8F0FE;\n",
              "      border: none;\n",
              "      border-radius: 50%;\n",
              "      cursor: pointer;\n",
              "      display: none;\n",
              "      fill: #1967D2;\n",
              "      height: 32px;\n",
              "      padding: 0 0 0 0;\n",
              "      width: 32px;\n",
              "    }\n",
              "\n",
              "    .colab-df-convert:hover {\n",
              "      background-color: #E2EBFA;\n",
              "      box-shadow: 0px 1px 2px rgba(60, 64, 67, 0.3), 0px 1px 3px 1px rgba(60, 64, 67, 0.15);\n",
              "      fill: #174EA6;\n",
              "    }\n",
              "\n",
              "    [theme=dark] .colab-df-convert {\n",
              "      background-color: #3B4455;\n",
              "      fill: #D2E3FC;\n",
              "    }\n",
              "\n",
              "    [theme=dark] .colab-df-convert:hover {\n",
              "      background-color: #434B5C;\n",
              "      box-shadow: 0px 1px 3px 1px rgba(0, 0, 0, 0.15);\n",
              "      filter: drop-shadow(0px 1px 2px rgba(0, 0, 0, 0.3));\n",
              "      fill: #FFFFFF;\n",
              "    }\n",
              "  </style>\n",
              "\n",
              "      <script>\n",
              "        const buttonEl =\n",
              "          document.querySelector('#df-3e249005-4bce-4286-9390-620038992d49 button.colab-df-convert');\n",
              "        buttonEl.style.display =\n",
              "          google.colab.kernel.accessAllowed ? 'block' : 'none';\n",
              "\n",
              "        async function convertToInteractive(key) {\n",
              "          const element = document.querySelector('#df-3e249005-4bce-4286-9390-620038992d49');\n",
              "          const dataTable =\n",
              "            await google.colab.kernel.invokeFunction('convertToInteractive',\n",
              "                                                     [key], {});\n",
              "          if (!dataTable) return;\n",
              "\n",
              "          const docLinkHtml = 'Like what you see? Visit the ' +\n",
              "            '<a target=\"_blank\" href=https://colab.research.google.com/notebooks/data_table.ipynb>data table notebook</a>'\n",
              "            + ' to learn more about interactive tables.';\n",
              "          element.innerHTML = '';\n",
              "          dataTable['output_type'] = 'display_data';\n",
              "          await google.colab.output.renderOutput(dataTable, element);\n",
              "          const docLink = document.createElement('div');\n",
              "          docLink.innerHTML = docLinkHtml;\n",
              "          element.appendChild(docLink);\n",
              "        }\n",
              "      </script>\n",
              "    </div>\n",
              "  </div>\n",
              "  "
            ]
          },
          "metadata": {},
          "execution_count": 4
        }
      ]
    },
    {
      "cell_type": "code",
      "source": [
        "#transformando a coluna da data de correção em date time\n",
        "df.start = pd.to_datetime(df.start)\n"
      ],
      "metadata": {
        "id": "ILKQFzNynGV-"
      },
      "execution_count": 5,
      "outputs": []
    },
    {
      "cell_type": "code",
      "source": [
        "#criando uma coluna que diz o ano da correção\n",
        "df['year'] = [df.loc[i].start.year for i in range(len(df))]\n"
      ],
      "metadata": {
        "id": "5Mxrn_z3nduW"
      },
      "execution_count": 6,
      "outputs": []
    },
    {
      "cell_type": "code",
      "source": [
        "#conferindo o shape antes de filtrar por 2020\n",
        "df.shape"
      ],
      "metadata": {
        "colab": {
          "base_uri": "https://localhost:8080/"
        },
        "id": "2dWZ8cYHn1J-",
        "outputId": "58ed072a-7187-4f1f-9c30-db9138731b2a"
      },
      "execution_count": 7,
      "outputs": [
        {
          "output_type": "execute_result",
          "data": {
            "text/plain": [
              "(158075, 50)"
            ]
          },
          "metadata": {},
          "execution_count": 7
        }
      ]
    },
    {
      "cell_type": "code",
      "source": [
        "#criando outro dataframe com dados apenas de 2020 pra cima\n",
        "df2020 = df.query('year >= 2020')\n",
        "df2020.reset_index(inplace=True)\n",
        "df2020.drop(columns='index',inplace=True)"
      ],
      "metadata": {
        "colab": {
          "base_uri": "https://localhost:8080/"
        },
        "id": "xUmFFofAn3Em",
        "outputId": "0fc30d81-e17d-4c83-e05c-056b981908ac"
      },
      "execution_count": 8,
      "outputs": [
        {
          "output_type": "stream",
          "name": "stderr",
          "text": [
            "/usr/local/lib/python3.7/dist-packages/pandas/core/frame.py:4913: SettingWithCopyWarning: \n",
            "A value is trying to be set on a copy of a slice from a DataFrame\n",
            "\n",
            "See the caveats in the documentation: https://pandas.pydata.org/pandas-docs/stable/user_guide/indexing.html#returning-a-view-versus-a-copy\n",
            "  errors=errors,\n"
          ]
        }
      ]
    },
    {
      "cell_type": "code",
      "source": [
        "#verificando nulos\n",
        "df2020.isnull().sum()"
      ],
      "metadata": {
        "colab": {
          "base_uri": "https://localhost:8080/"
        },
        "id": "YW9GgPLhpV7F",
        "outputId": "63329740-b9b4-4251-c811-744e7f2825c9"
      },
      "execution_count": 9,
      "outputs": [
        {
          "output_type": "execute_result",
          "data": {
            "text/plain": [
              "tipo_cliente                                 0\n",
              "formato_redacao                              0\n",
              "start                                        0\n",
              "tamanho_comentario_geral                     0\n",
              "correction_time                              1\n",
              "feedback_rating                              0\n",
              "proporcao_positiva                           0\n",
              "qtd_comentarios_especificos                  0\n",
              "proporcao_negativa                           0\n",
              "qtd_comentarios_positivos                    0\n",
              "qtd_comentarios_negativos                    0\n",
              "tamanho_medio_comentarios_especificos        0\n",
              "tempo_vinculo_corretor                       0\n",
              "qtd_correcoes_anteriores                     0\n",
              "qtd_correcoes_dia                            0\n",
              "tempo_espera                                 0\n",
              "dia_semana                                   0\n",
              "mes_ano                                      0\n",
              "dia_mes                                      0\n",
              "tempo_vinculo_aluno                          0\n",
              "theme_id_essay                               0\n",
              "oficial_feedback_revis                       9\n",
              "competencia1                               503\n",
              "competencia2                               503\n",
              "competencia3                               503\n",
              "competencia4                               503\n",
              "competencia5                               503\n",
              "nota_final                                 503\n",
              "media_temporal_aluno                     21784\n",
              "media_temporal_corretor                   1401\n",
              "std_temporal_aluno                       21784\n",
              "std_temporal_corretor                     1401\n",
              "mediana_temporal_aluno                   21784\n",
              "mediana_temporal_corretor                 1401\n",
              "score_medio_temporal_aluno                7667\n",
              "score_medio_temporal_corretor              147\n",
              "score_std_temporal_aluno                  7667\n",
              "diff_score_media_corretor                  642\n",
              "diff_score_media_aluno                    8101\n",
              "qtd_feedbacks_aluno                          0\n",
              "feedbacks_positivos_aluno                    0\n",
              "feedbacks_negativos_aluno                    0\n",
              "proporcao_feedback_positivo_aluno         7627\n",
              "proporcao_feedback_negativo_aluno         7627\n",
              "qtd_feedbacks_corretor                       0\n",
              "feedbacks_positivos_corretor                 0\n",
              "feedbacks_negativos_corretor                 0\n",
              "proporcao_feedback_positivo_corretor       141\n",
              "proporcao_feedback_negativo_corretor       141\n",
              "year                                         0\n",
              "dtype: int64"
            ]
          },
          "metadata": {},
          "execution_count": 9
        }
      ]
    },
    {
      "cell_type": "code",
      "source": [
        "df2020.dropna(inplace=True)\n",
        "df2020.reset_index(inplace=True)\n",
        "df2020.drop(columns=['index'],inplace=True)"
      ],
      "metadata": {
        "id": "T9ScpiZHpaFp",
        "colab": {
          "base_uri": "https://localhost:8080/"
        },
        "outputId": "25515552-3a09-4d91-a75e-7739dad65a4b"
      },
      "execution_count": 10,
      "outputs": [
        {
          "output_type": "stream",
          "name": "stderr",
          "text": [
            "/usr/local/lib/python3.7/dist-packages/pandas/util/_decorators.py:311: SettingWithCopyWarning: \n",
            "A value is trying to be set on a copy of a slice from a DataFrame\n",
            "\n",
            "See the caveats in the documentation: https://pandas.pydata.org/pandas-docs/stable/user_guide/indexing.html#returning-a-view-versus-a-copy\n",
            "  return func(*args, **kwargs)\n",
            "/usr/local/lib/python3.7/dist-packages/pandas/core/frame.py:4913: SettingWithCopyWarning: \n",
            "A value is trying to be set on a copy of a slice from a DataFrame\n",
            "\n",
            "See the caveats in the documentation: https://pandas.pydata.org/pandas-docs/stable/user_guide/indexing.html#returning-a-view-versus-a-copy\n",
            "  errors=errors,\n"
          ]
        }
      ]
    },
    {
      "cell_type": "code",
      "source": [
        "#shape do dataframe de 2020\n",
        "print(df2020.shape)"
      ],
      "metadata": {
        "colab": {
          "base_uri": "https://localhost:8080/"
        },
        "id": "uNsIGor6n552",
        "outputId": "f1b09e13-2bfe-420d-adf9-b5a3f2c6b2d6"
      },
      "execution_count": 11,
      "outputs": [
        {
          "output_type": "stream",
          "name": "stdout",
          "text": [
            "(45383, 50)\n"
          ]
        }
      ]
    },
    {
      "cell_type": "code",
      "source": [
        "#transformando a variável alvo para classificação\n",
        "df2020.feedback_rating = np.where(df2020.feedback_rating > 3, 'satisfeito', 'insatisfeito')"
      ],
      "metadata": {
        "colab": {
          "base_uri": "https://localhost:8080/"
        },
        "id": "MB4jWi4in6od",
        "outputId": "22a99239-879c-4580-aa9e-7201767fa4dd"
      },
      "execution_count": 12,
      "outputs": [
        {
          "output_type": "stream",
          "name": "stderr",
          "text": [
            "/usr/local/lib/python3.7/dist-packages/pandas/core/generic.py:5516: SettingWithCopyWarning: \n",
            "A value is trying to be set on a copy of a slice from a DataFrame.\n",
            "Try using .loc[row_indexer,col_indexer] = value instead\n",
            "\n",
            "See the caveats in the documentation: https://pandas.pydata.org/pandas-docs/stable/user_guide/indexing.html#returning-a-view-versus-a-copy\n",
            "  self[name] = value\n"
          ]
        }
      ]
    },
    {
      "cell_type": "code",
      "source": [
        "#conferindo a proporção da variável alvo\n",
        "df2020.feedback_rating.value_counts(normalize=True)*100"
      ],
      "metadata": {
        "colab": {
          "base_uri": "https://localhost:8080/"
        },
        "id": "FNvEK6VjoFvl",
        "outputId": "47a4dd14-2aab-4606-9dac-22eaaa416d0f"
      },
      "execution_count": 13,
      "outputs": [
        {
          "output_type": "execute_result",
          "data": {
            "text/plain": [
              "insatisfeito    55.536214\n",
              "satisfeito      44.463786\n",
              "Name: feedback_rating, dtype: float64"
            ]
          },
          "metadata": {},
          "execution_count": 13
        }
      ]
    },
    {
      "cell_type": "markdown",
      "source": [
        "# Preparando os dados para os modelos"
      ],
      "metadata": {
        "id": "8dZb86ZZvNVU"
      }
    },
    {
      "cell_type": "code",
      "source": [
        "#instalando a biblioteca que fornece os encoders\n",
        "!pip install category_encoders "
      ],
      "metadata": {
        "id": "-PW9S6Ifo0Jw",
        "colab": {
          "base_uri": "https://localhost:8080/"
        },
        "outputId": "16369730-e13e-4f69-c387-e224ae35366c"
      },
      "execution_count": 14,
      "outputs": [
        {
          "output_type": "stream",
          "name": "stdout",
          "text": [
            "Collecting category_encoders\n",
            "  Downloading category_encoders-2.4.1-py2.py3-none-any.whl (80 kB)\n",
            "\u001b[?25l\r\u001b[K     |████                            | 10 kB 20.4 MB/s eta 0:00:01\r\u001b[K     |████████                        | 20 kB 12.0 MB/s eta 0:00:01\r\u001b[K     |████████████▏                   | 30 kB 7.6 MB/s eta 0:00:01\r\u001b[K     |████████████████▏               | 40 kB 3.5 MB/s eta 0:00:01\r\u001b[K     |████████████████████▎           | 51 kB 3.5 MB/s eta 0:00:01\r\u001b[K     |████████████████████████▎       | 61 kB 4.1 MB/s eta 0:00:01\r\u001b[K     |████████████████████████████▍   | 71 kB 4.4 MB/s eta 0:00:01\r\u001b[K     |████████████████████████████████| 80 kB 3.4 MB/s \n",
            "\u001b[?25hRequirement already satisfied: pandas>=0.21.1 in /usr/local/lib/python3.7/dist-packages (from category_encoders) (1.3.5)\n",
            "Requirement already satisfied: scikit-learn>=0.20.0 in /usr/local/lib/python3.7/dist-packages (from category_encoders) (1.0.2)\n",
            "Requirement already satisfied: patsy>=0.5.1 in /usr/local/lib/python3.7/dist-packages (from category_encoders) (0.5.2)\n",
            "Requirement already satisfied: scipy>=1.0.0 in /usr/local/lib/python3.7/dist-packages (from category_encoders) (1.4.1)\n",
            "Requirement already satisfied: statsmodels>=0.9.0 in /usr/local/lib/python3.7/dist-packages (from category_encoders) (0.10.2)\n",
            "Requirement already satisfied: numpy>=1.14.0 in /usr/local/lib/python3.7/dist-packages (from category_encoders) (1.21.6)\n",
            "Requirement already satisfied: python-dateutil>=2.7.3 in /usr/local/lib/python3.7/dist-packages (from pandas>=0.21.1->category_encoders) (2.8.2)\n",
            "Requirement already satisfied: pytz>=2017.3 in /usr/local/lib/python3.7/dist-packages (from pandas>=0.21.1->category_encoders) (2022.1)\n",
            "Requirement already satisfied: six in /usr/local/lib/python3.7/dist-packages (from patsy>=0.5.1->category_encoders) (1.15.0)\n",
            "Requirement already satisfied: joblib>=0.11 in /usr/local/lib/python3.7/dist-packages (from scikit-learn>=0.20.0->category_encoders) (1.1.0)\n",
            "Requirement already satisfied: threadpoolctl>=2.0.0 in /usr/local/lib/python3.7/dist-packages (from scikit-learn>=0.20.0->category_encoders) (3.1.0)\n",
            "Installing collected packages: category-encoders\n",
            "Successfully installed category-encoders-2.4.1\n"
          ]
        }
      ]
    },
    {
      "cell_type": "code",
      "source": [
        "df2020.feedback_rating = df2020.feedback_rating.map({'insatisfeito':1,'satisfeito':0})"
      ],
      "metadata": {
        "colab": {
          "base_uri": "https://localhost:8080/"
        },
        "id": "nBoyc0kWEThB",
        "outputId": "b7aeb749-b200-4d51-c328-8deeea259bc5"
      },
      "execution_count": 15,
      "outputs": [
        {
          "output_type": "stream",
          "name": "stderr",
          "text": [
            "/usr/local/lib/python3.7/dist-packages/pandas/core/generic.py:5516: SettingWithCopyWarning: \n",
            "A value is trying to be set on a copy of a slice from a DataFrame.\n",
            "Try using .loc[row_indexer,col_indexer] = value instead\n",
            "\n",
            "See the caveats in the documentation: https://pandas.pydata.org/pandas-docs/stable/user_guide/indexing.html#returning-a-view-versus-a-copy\n",
            "  self[name] = value\n"
          ]
        }
      ]
    },
    {
      "cell_type": "markdown",
      "source": [
        "## split temporal"
      ],
      "metadata": {
        "id": "SyFEIjum78Br"
      }
    },
    {
      "cell_type": "code",
      "source": [
        "import datetime\n",
        "(df2020.start < datetime.datetime(2021,11,1)).value_counts(normalize=True)*100"
      ],
      "metadata": {
        "colab": {
          "base_uri": "https://localhost:8080/"
        },
        "id": "Qh3166i27_Y0",
        "outputId": "87ae5c38-f028-4bd3-9eea-70c1675edcab"
      },
      "execution_count": 17,
      "outputs": [
        {
          "output_type": "execute_result",
          "data": {
            "text/plain": [
              "True     93.03704\n",
              "False     6.96296\n",
              "Name: start, dtype: float64"
            ]
          },
          "metadata": {},
          "execution_count": 17
        }
      ]
    },
    {
      "cell_type": "code",
      "source": [
        "(df2020.start < datetime.datetime(2021,11,1)).value_counts()"
      ],
      "metadata": {
        "colab": {
          "base_uri": "https://localhost:8080/"
        },
        "id": "CzNi7eoAN574",
        "outputId": "5c72f5fe-64d5-4bf4-f2f5-2e6bb4154b27"
      },
      "execution_count": 18,
      "outputs": [
        {
          "output_type": "execute_result",
          "data": {
            "text/plain": [
              "True     42223\n",
              "False     3160\n",
              "Name: start, dtype: int64"
            ]
          },
          "metadata": {},
          "execution_count": 18
        }
      ]
    },
    {
      "cell_type": "code",
      "source": [
        "train = df2020[(df2020.start < datetime.datetime(2021,11,1))].drop(columns=['start','year','oficial_feedback_revis'])\n",
        "test = df2020[~(df2020.start < datetime.datetime(2021,11,1))].drop(columns=['start','year','oficial_feedback_revis'])"
      ],
      "metadata": {
        "id": "a_mPkgFx8GVj"
      },
      "execution_count": 19,
      "outputs": []
    },
    {
      "cell_type": "code",
      "source": [
        "#aplicando o encoder nas colunas categóricas\n",
        "\n",
        "import category_encoders as ce \n",
        "# parâmetro cols identifica as colunas categóricas\n",
        "js_treino = ce.JamesSteinEncoder(cols=['tipo_cliente','formato_redacao', 'dia_semana',\n",
        "                                       'mes_ano','dia_mes','theme_id_essay',\n",
        "                                       ], model='beta')\n",
        "\n",
        "\n",
        "\n",
        "treino = js_treino.fit_transform(train.drop(columns='feedback_rating'), train.feedback_rating)\n",
        "\n",
        "teste = js_treino.transform(test.drop(columns='feedback_rating'))\n",
        "\n",
        "\n",
        "treino = pd.concat([treino,train.feedback_rating],axis=1)\n",
        "\n",
        "teste = pd.concat([teste,test.feedback_rating],axis=1)"
      ],
      "metadata": {
        "id": "9p_4Bo0L84vx",
        "colab": {
          "base_uri": "https://localhost:8080/"
        },
        "outputId": "63bc18d5-5177-4535-cd6a-bfa919ec946b"
      },
      "execution_count": 20,
      "outputs": [
        {
          "output_type": "stream",
          "name": "stderr",
          "text": [
            "/usr/local/lib/python3.7/dist-packages/statsmodels/tools/_testing.py:19: FutureWarning: pandas.util.testing is deprecated. Use the functions in the public API at pandas.testing instead.\n",
            "  import pandas.util.testing as tm\n"
          ]
        }
      ]
    },
    {
      "cell_type": "code",
      "source": [
        "X_train2 = treino.drop(columns='feedback_rating')\n",
        "y_train2 = treino.feedback_rating\n",
        "\n",
        "X_test2020s = teste.drop(columns='feedback_rating')\n",
        "y_test2020s = teste.feedback_rating"
      ],
      "metadata": {
        "id": "aigujEnf87FJ"
      },
      "execution_count": 21,
      "outputs": []
    },
    {
      "cell_type": "code",
      "source": [
        "from imblearn.over_sampling import SMOTE\n",
        "\n",
        "sm = SMOTE(random_state = 7)\n",
        "\n",
        "X_nof2020sm, y_nof2020sm = sm.fit_resample(X_train2, y_train2)"
      ],
      "metadata": {
        "id": "1uaKFXbf87FK"
      },
      "execution_count": 22,
      "outputs": []
    },
    {
      "cell_type": "code",
      "source": [
        "from imblearn.under_sampling import RandomUnderSampler\n",
        "rus = RandomUnderSampler(random_state=7)\n",
        "X_nof2020us, y_nof2020us = rus.fit_resample(X_train2, y_train2)"
      ],
      "metadata": {
        "id": "Oxinbogf87FL"
      },
      "execution_count": 23,
      "outputs": []
    },
    {
      "cell_type": "markdown",
      "source": [
        "# Modelagem"
      ],
      "metadata": {
        "id": "QSJD0-9TI-UT"
      }
    },
    {
      "cell_type": "markdown",
      "source": [
        "## Aplicando Random Forest"
      ],
      "metadata": {
        "id": "iShw2spoHxVY"
      }
    },
    {
      "cell_type": "code",
      "source": [
        "rf = RandomForestClassifier()"
      ],
      "metadata": {
        "id": "ZvmXzgOTHzf7"
      },
      "execution_count": 24,
      "outputs": []
    },
    {
      "cell_type": "markdown",
      "source": [
        "### SMOTE"
      ],
      "metadata": {
        "id": "rRsuNd2J9Bo-"
      }
    },
    {
      "cell_type": "code",
      "source": [
        "rf.fit(X_nof2020sm, y_nof2020sm)"
      ],
      "metadata": {
        "colab": {
          "base_uri": "https://localhost:8080/"
        },
        "outputId": "726afd17-0aff-4098-9828-fd13cdbd9ee3",
        "id": "EpnUwMK09Bo-"
      },
      "execution_count": 25,
      "outputs": [
        {
          "output_type": "execute_result",
          "data": {
            "text/plain": [
              "RandomForestClassifier()"
            ]
          },
          "metadata": {},
          "execution_count": 25
        }
      ]
    },
    {
      "cell_type": "code",
      "source": [
        "ypred_rf = rf.predict(X_test2020s)"
      ],
      "metadata": {
        "id": "NbraCLKBldIG"
      },
      "execution_count": 26,
      "outputs": []
    },
    {
      "cell_type": "code",
      "source": [
        "print(classification_report(y_test2020s, ypred_rf))"
      ],
      "metadata": {
        "colab": {
          "base_uri": "https://localhost:8080/"
        },
        "outputId": "644ec2eb-845e-4d09-805c-d2d131d5906b",
        "id": "0N329lwo9BpA"
      },
      "execution_count": 27,
      "outputs": [
        {
          "output_type": "stream",
          "name": "stdout",
          "text": [
            "              precision    recall  f1-score   support\n",
            "\n",
            "           0       0.77      0.79      0.78      1466\n",
            "           1       0.82      0.79      0.81      1694\n",
            "\n",
            "    accuracy                           0.79      3160\n",
            "   macro avg       0.79      0.79      0.79      3160\n",
            "weighted avg       0.79      0.79      0.79      3160\n",
            "\n"
          ]
        }
      ]
    },
    {
      "cell_type": "code",
      "source": [
        "from sklearn.metrics import accuracy_score\n",
        "\n",
        "print(accuracy_score(y_test2020s,ypred_rf))"
      ],
      "metadata": {
        "colab": {
          "base_uri": "https://localhost:8080/"
        },
        "outputId": "fbc1bb03-8bd6-4731-b8ee-95701e56bc47",
        "id": "m2irwmWe9BpB"
      },
      "execution_count": 28,
      "outputs": [
        {
          "output_type": "stream",
          "name": "stdout",
          "text": [
            "0.7939873417721519\n"
          ]
        }
      ]
    },
    {
      "cell_type": "code",
      "source": [
        "plot_confusion_matrix(rf, X_test2020s, y_test2020s, normalize='true', display_labels=['satisfeito','insatisfeito'])"
      ],
      "metadata": {
        "colab": {
          "base_uri": "https://localhost:8080/",
          "height": 351
        },
        "outputId": "3e8b7ee8-1c10-4ccf-bf19-de0707934cb9",
        "id": "8I-CAtAB9BpC"
      },
      "execution_count": 29,
      "outputs": [
        {
          "output_type": "stream",
          "name": "stderr",
          "text": [
            "/usr/local/lib/python3.7/dist-packages/sklearn/utils/deprecation.py:87: FutureWarning: Function plot_confusion_matrix is deprecated; Function `plot_confusion_matrix` is deprecated in 1.0 and will be removed in 1.2. Use one of the class methods: ConfusionMatrixDisplay.from_predictions or ConfusionMatrixDisplay.from_estimator.\n",
            "  warnings.warn(msg, category=FutureWarning)\n"
          ]
        },
        {
          "output_type": "execute_result",
          "data": {
            "text/plain": [
              "<sklearn.metrics._plot.confusion_matrix.ConfusionMatrixDisplay at 0x7f5111828750>"
            ]
          },
          "metadata": {},
          "execution_count": 29
        },
        {
          "output_type": "display_data",
          "data": {
            "text/plain": [
              "<Figure size 432x288 with 2 Axes>"
            ],
            "image/png": "[encoded data removed]"
          },
          "metadata": {
            "needs_background": "light"
          }
        }
      ]
    },
    {
      "cell_type": "code",
      "source": [
        "plot_confusion_matrix(rf, X_test2020s, y_test2020s, display_labels=['satisfeito','insatisfeito'])"
      ],
      "metadata": {
        "colab": {
          "base_uri": "https://localhost:8080/",
          "height": 351
        },
        "id": "3We22-aiS_8k",
        "outputId": "907096b3-71b1-4db5-d531-ebe4d3d32d5d"
      },
      "execution_count": 30,
      "outputs": [
        {
          "output_type": "stream",
          "name": "stderr",
          "text": [
            "/usr/local/lib/python3.7/dist-packages/sklearn/utils/deprecation.py:87: FutureWarning: Function plot_confusion_matrix is deprecated; Function `plot_confusion_matrix` is deprecated in 1.0 and will be removed in 1.2. Use one of the class methods: ConfusionMatrixDisplay.from_predictions or ConfusionMatrixDisplay.from_estimator.\n",
            "  warnings.warn(msg, category=FutureWarning)\n"
          ]
        },
        {
          "output_type": "execute_result",
          "data": {
            "text/plain": [
              "<sklearn.metrics._plot.confusion_matrix.ConfusionMatrixDisplay at 0x7f5113e56950>"
            ]
          },
          "metadata": {},
          "execution_count": 30
        },
        {
          "output_type": "display_data",
          "data": {
            "text/plain": [
              "<Figure size 432x288 with 2 Axes>"
            ],
            "image/png": "[encoded data removed]"
          },
          "metadata": {
            "needs_background": "light"
          }
        }
      ]
    },
    {
      "cell_type": "code",
      "source": [
        ""
      ],
      "metadata": {
        "id": "DGNX2vxMIGyO"
      },
      "execution_count": null,
      "outputs": []
    },
    {
      "cell_type": "markdown",
      "source": [
        "### undersampling"
      ],
      "metadata": {
        "id": "K9fpqw01IG-M"
      }
    },
    {
      "cell_type": "code",
      "source": [
        "rf.fit(X_nof2020us, y_nof2020us)"
      ],
      "metadata": {
        "colab": {
          "base_uri": "https://localhost:8080/"
        },
        "outputId": "f316ea83-f054-4bad-f06a-b5d3c4ba5733",
        "id": "Bf_oG4y_IG-N"
      },
      "execution_count": 38,
      "outputs": [
        {
          "output_type": "execute_result",
          "data": {
            "text/plain": [
              "RandomForestClassifier()"
            ]
          },
          "metadata": {},
          "execution_count": 38
        }
      ]
    },
    {
      "cell_type": "code",
      "source": [
        "ypred_rf = rf.predict(X_test2020s)"
      ],
      "metadata": {
        "id": "MhmlJUo8IG-O"
      },
      "execution_count": 39,
      "outputs": []
    },
    {
      "cell_type": "code",
      "source": [
        "print(classification_report(y_test2020s, ypred_rf))"
      ],
      "metadata": {
        "colab": {
          "base_uri": "https://localhost:8080/"
        },
        "outputId": "fd49da72-0b0d-4e64-9071-2af27d152cf7",
        "id": "kzEPi6kVIG-P"
      },
      "execution_count": 40,
      "outputs": [
        {
          "output_type": "stream",
          "name": "stdout",
          "text": [
            "              precision    recall  f1-score   support\n",
            "\n",
            "           0       0.76      0.82      0.79      1466\n",
            "           1       0.83      0.78      0.81      1694\n",
            "\n",
            "    accuracy                           0.80      3160\n",
            "   macro avg       0.80      0.80      0.80      3160\n",
            "weighted avg       0.80      0.80      0.80      3160\n",
            "\n"
          ]
        }
      ]
    },
    {
      "cell_type": "code",
      "source": [
        "from sklearn.metrics import accuracy_score\n",
        "\n",
        "print(accuracy_score(y_test2020s,ypred_rf))"
      ],
      "metadata": {
        "colab": {
          "base_uri": "https://localhost:8080/"
        },
        "outputId": "aefe871f-8d7a-4515-e2ba-6293abb2d077",
        "id": "C_zIhSxtIG-P"
      },
      "execution_count": 41,
      "outputs": [
        {
          "output_type": "stream",
          "name": "stdout",
          "text": [
            "0.7974683544303798\n"
          ]
        }
      ]
    },
    {
      "cell_type": "code",
      "source": [
        "plot_confusion_matrix(rf, X_test2020s, y_test2020s, normalize='true', display_labels=['satisfeito','insatisfeito'])"
      ],
      "metadata": {
        "colab": {
          "base_uri": "https://localhost:8080/",
          "height": 351
        },
        "outputId": "7de073aa-1c3f-4fcf-ff16-ad6c0996f40d",
        "id": "OLRRFP6PIG-Q"
      },
      "execution_count": 42,
      "outputs": [
        {
          "output_type": "stream",
          "name": "stderr",
          "text": [
            "/usr/local/lib/python3.7/dist-packages/sklearn/utils/deprecation.py:87: FutureWarning: Function plot_confusion_matrix is deprecated; Function `plot_confusion_matrix` is deprecated in 1.0 and will be removed in 1.2. Use one of the class methods: ConfusionMatrixDisplay.from_predictions or ConfusionMatrixDisplay.from_estimator.\n",
            "  warnings.warn(msg, category=FutureWarning)\n"
          ]
        },
        {
          "output_type": "execute_result",
          "data": {
            "text/plain": [
              "<sklearn.metrics._plot.confusion_matrix.ConfusionMatrixDisplay at 0x7f510f41a9d0>"
            ]
          },
          "metadata": {},
          "execution_count": 42
        },
        {
          "output_type": "display_data",
          "data": {
            "text/plain": [
              "<Figure size 432x288 with 2 Axes>"
            ],
            "image/png": "[encoded data removed]"
          },
          "metadata": {
            "needs_background": "light"
          }
        }
      ]
    },
    {
      "cell_type": "markdown",
      "source": [
        "## Aplicando GradientBoosting"
      ],
      "metadata": {
        "id": "QaXTBpa-H36b"
      }
    },
    {
      "cell_type": "code",
      "source": [
        "gb = GradientBoostingClassifier()"
      ],
      "metadata": {
        "id": "Frpchnw-e49l"
      },
      "execution_count": 31,
      "outputs": []
    },
    {
      "cell_type": "markdown",
      "source": [
        "### SMOTE"
      ],
      "metadata": {
        "id": "N5wqmPd5H6kB"
      }
    },
    {
      "cell_type": "code",
      "source": [
        "gb.fit(X_nof2020sm, y_nof2020sm)"
      ],
      "metadata": {
        "colab": {
          "base_uri": "https://localhost:8080/"
        },
        "outputId": "bf12429b-b4fc-4b0b-f9eb-f9a78541123a",
        "id": "I2pryTBbe5SO"
      },
      "execution_count": 32,
      "outputs": [
        {
          "output_type": "execute_result",
          "data": {
            "text/plain": [
              "GradientBoostingClassifier()"
            ]
          },
          "metadata": {},
          "execution_count": 32
        }
      ]
    },
    {
      "cell_type": "code",
      "source": [
        "ypred_gb = gb.predict(X_test2020s)"
      ],
      "metadata": {
        "id": "cSK5rBgae5SR"
      },
      "execution_count": 33,
      "outputs": []
    },
    {
      "cell_type": "code",
      "source": [
        "print(classification_report(y_test2020s, ypred_gb))"
      ],
      "metadata": {
        "colab": {
          "base_uri": "https://localhost:8080/"
        },
        "outputId": "33e6e8f3-8d9f-4cfe-a439-1cf6f1bf7a80",
        "id": "AahNtaqIe5SR"
      },
      "execution_count": 34,
      "outputs": [
        {
          "output_type": "stream",
          "name": "stdout",
          "text": [
            "              precision    recall  f1-score   support\n",
            "\n",
            "           0       0.79      0.80      0.79      1466\n",
            "           1       0.82      0.81      0.82      1694\n",
            "\n",
            "    accuracy                           0.81      3160\n",
            "   macro avg       0.81      0.81      0.81      3160\n",
            "weighted avg       0.81      0.81      0.81      3160\n",
            "\n"
          ]
        }
      ]
    },
    {
      "cell_type": "code",
      "source": [
        "from sklearn.metrics import accuracy_score\n",
        "\n",
        "print(accuracy_score(y_test2020s,ypred_gb))"
      ],
      "metadata": {
        "colab": {
          "base_uri": "https://localhost:8080/"
        },
        "outputId": "c080beda-775b-47ea-c5b6-e235fa949fa7",
        "id": "dSi47mwKe5SS"
      },
      "execution_count": 35,
      "outputs": [
        {
          "output_type": "stream",
          "name": "stdout",
          "text": [
            "0.8063291139240506\n"
          ]
        }
      ]
    },
    {
      "cell_type": "code",
      "source": [
        "plot_confusion_matrix(gb, X_test2020s, y_test2020s, normalize='true', display_labels=['satisfeito','insatisfeito'])"
      ],
      "metadata": {
        "colab": {
          "base_uri": "https://localhost:8080/",
          "height": 351
        },
        "outputId": "2d2b9a90-f4f4-4ef3-be8f-3c735c4c2a7b",
        "id": "cNN8DjVFe5ST"
      },
      "execution_count": 36,
      "outputs": [
        {
          "output_type": "stream",
          "name": "stderr",
          "text": [
            "/usr/local/lib/python3.7/dist-packages/sklearn/utils/deprecation.py:87: FutureWarning: Function plot_confusion_matrix is deprecated; Function `plot_confusion_matrix` is deprecated in 1.0 and will be removed in 1.2. Use one of the class methods: ConfusionMatrixDisplay.from_predictions or ConfusionMatrixDisplay.from_estimator.\n",
            "  warnings.warn(msg, category=FutureWarning)\n"
          ]
        },
        {
          "output_type": "execute_result",
          "data": {
            "text/plain": [
              "<sklearn.metrics._plot.confusion_matrix.ConfusionMatrixDisplay at 0x7f510ae03990>"
            ]
          },
          "metadata": {},
          "execution_count": 36
        },
        {
          "output_type": "display_data",
          "data": {
            "text/plain": [
              "<Figure size 432x288 with 2 Axes>"
            ],
            "image/png": "[encoded data removed]"
          },
          "metadata": {
            "needs_background": "light"
          }
        }
      ]
    },
    {
      "cell_type": "code",
      "source": [
        "plot_confusion_matrix(gb, X_test2020s, y_test2020s, display_labels=['satisfeito','insatisfeito'])"
      ],
      "metadata": {
        "colab": {
          "base_uri": "https://localhost:8080/",
          "height": 351
        },
        "outputId": "3d2295a3-2020-44fa-ef32-0cd47b3f57a1",
        "id": "mnwQ5Ceje5SU"
      },
      "execution_count": 37,
      "outputs": [
        {
          "output_type": "stream",
          "name": "stderr",
          "text": [
            "/usr/local/lib/python3.7/dist-packages/sklearn/utils/deprecation.py:87: FutureWarning: Function plot_confusion_matrix is deprecated; Function `plot_confusion_matrix` is deprecated in 1.0 and will be removed in 1.2. Use one of the class methods: ConfusionMatrixDisplay.from_predictions or ConfusionMatrixDisplay.from_estimator.\n",
            "  warnings.warn(msg, category=FutureWarning)\n"
          ]
        },
        {
          "output_type": "execute_result",
          "data": {
            "text/plain": [
              "<sklearn.metrics._plot.confusion_matrix.ConfusionMatrixDisplay at 0x7f5111943350>"
            ]
          },
          "metadata": {},
          "execution_count": 37
        },
        {
          "output_type": "display_data",
          "data": {
            "text/plain": [
              "<Figure size 432x288 with 2 Axes>"
            ],
            "image/png": "[encoded data removed]"
          },
          "metadata": {
            "needs_background": "light"
          }
        }
      ]
    },
    {
      "cell_type": "markdown",
      "source": [
        "### undersampling"
      ],
      "metadata": {
        "id": "b4rCmlKU9BpC"
      }
    },
    {
      "cell_type": "code",
      "source": [
        "gb.fit(X_nof2020us, y_nof2020us)"
      ],
      "metadata": {
        "colab": {
          "base_uri": "https://localhost:8080/"
        },
        "outputId": "ce486895-51da-4423-a59b-ab1d38d3f18a",
        "id": "F4ERkhfBIG-S"
      },
      "execution_count": 44,
      "outputs": [
        {
          "output_type": "execute_result",
          "data": {
            "text/plain": [
              "GradientBoostingClassifier()"
            ]
          },
          "metadata": {},
          "execution_count": 44
        }
      ]
    },
    {
      "cell_type": "code",
      "source": [
        "ypred_gb = gb.predict(X_test2020s)"
      ],
      "metadata": {
        "id": "A83lKWR9IG-T"
      },
      "execution_count": 45,
      "outputs": []
    },
    {
      "cell_type": "code",
      "source": [
        "print(classification_report(y_test2020s, ypred_gb))"
      ],
      "metadata": {
        "colab": {
          "base_uri": "https://localhost:8080/"
        },
        "outputId": "6f37eece-bd71-4b7d-d40f-1d12eea2fbeb",
        "id": "t-iDr4SaIG-U"
      },
      "execution_count": 46,
      "outputs": [
        {
          "output_type": "stream",
          "name": "stdout",
          "text": [
            "              precision    recall  f1-score   support\n",
            "\n",
            "           0       0.76      0.82      0.79      1466\n",
            "           1       0.83      0.78      0.81      1694\n",
            "\n",
            "    accuracy                           0.80      3160\n",
            "   macro avg       0.80      0.80      0.80      3160\n",
            "weighted avg       0.80      0.80      0.80      3160\n",
            "\n"
          ]
        }
      ]
    },
    {
      "cell_type": "code",
      "source": [
        "from sklearn.metrics import accuracy_score\n",
        "\n",
        "print(accuracy_score(y_test2020s,ypred_gb))"
      ],
      "metadata": {
        "colab": {
          "base_uri": "https://localhost:8080/"
        },
        "outputId": "0d421a7e-682a-4f38-82e6-8e6c9eaccbd6",
        "id": "4165tqONIG-V"
      },
      "execution_count": 47,
      "outputs": [
        {
          "output_type": "stream",
          "name": "stdout",
          "text": [
            "0.7977848101265823\n"
          ]
        }
      ]
    },
    {
      "cell_type": "code",
      "source": [
        "plot_confusion_matrix(gb, X_test2020s, y_test2020s, normalize='true', display_labels=['satisfeito','insatisfeito'])"
      ],
      "metadata": {
        "colab": {
          "base_uri": "https://localhost:8080/",
          "height": 0
        },
        "outputId": "17e2703a-f8c1-4c08-85bd-0eb80768c8bc",
        "id": "W0mLL8wiIG-W"
      },
      "execution_count": 48,
      "outputs": [
        {
          "output_type": "stream",
          "name": "stderr",
          "text": [
            "/usr/local/lib/python3.7/dist-packages/sklearn/utils/deprecation.py:87: FutureWarning: Function plot_confusion_matrix is deprecated; Function `plot_confusion_matrix` is deprecated in 1.0 and will be removed in 1.2. Use one of the class methods: ConfusionMatrixDisplay.from_predictions or ConfusionMatrixDisplay.from_estimator.\n",
            "  warnings.warn(msg, category=FutureWarning)\n"
          ]
        },
        {
          "output_type": "execute_result",
          "data": {
            "text/plain": [
              "<sklearn.metrics._plot.confusion_matrix.ConfusionMatrixDisplay at 0x7f510add16d0>"
            ]
          },
          "metadata": {},
          "execution_count": 48
        },
        {
          "output_type": "display_data",
          "data": {
            "text/plain": [
              "<Figure size 432x288 with 2 Axes>"
            ],
            "image/png": "[encoded data removed]"
          },
          "metadata": {
            "needs_background": "light"
          }
        }
      ]
    }
  ]
}